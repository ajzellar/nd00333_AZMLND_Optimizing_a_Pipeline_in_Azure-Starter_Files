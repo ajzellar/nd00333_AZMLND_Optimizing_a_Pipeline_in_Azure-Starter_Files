{
 "cells": [
  {
   "cell_type": "code",
   "execution_count": 1,
   "metadata": {
    "gather": {
     "logged": 1598275788035
    }
   },
   "outputs": [
    {
     "name": "stdout",
     "output_type": "stream",
     "text": [
      "Workspace name: quick-starts-ws-187962\n",
      "Azure region: southcentralus\n",
      "Subscription id: a24a24d5-8d87-4c8a-99b6-91ed2d2df51f\n",
      "Resource group: aml-quickstarts-187962\n"
     ]
    }
   ],
   "source": [
    "from azureml.core import Workspace, Experiment\n",
    "\n",
    "ws = Workspace.from_config()\n",
    "exp = Experiment(workspace=ws, name=\"udacity-project\")\n",
    "\n",
    "print('Workspace name: ' + ws.name, \n",
    "      'Azure region: ' + ws.location, \n",
    "      'Subscription id: ' + ws.subscription_id, \n",
    "      'Resource group: ' + ws.resource_group, sep = '\\n')\n",
    "\n",
    "run = exp.start_logging()\n"
   ]
  },
  {
   "cell_type": "code",
   "execution_count": 2,
   "metadata": {
    "gather": {
     "logged": 1598275788675
    },
    "jupyter": {
     "outputs_hidden": false,
     "source_hidden": false
    },
    "nteract": {
     "transient": {
      "deleting": false
     }
    }
   },
   "outputs": [
    {
     "name": "stdout",
     "output_type": "stream",
     "text": [
      "Existing Compute using compute-cluster\n"
     ]
    }
   ],
   "source": [
    "from azureml.core.compute import ComputeTarget, AmlCompute\n",
    "from azureml.core.compute_target import ComputeTargetException\n",
    "\n",
    "\n",
    "cluster_name = \"compute-cluster\"\n",
    "# TODO: Create compute cluster\n",
    "# Use vm_size = \"Standard_D2_V2\" in your provisioning configuration.\n",
    "# max_nodes should be no greater than 4.\n",
    "\n",
    "### YOUR CODE HERE ###\n",
    "try:\n",
    "    compute_target = ComputeTarget(workspace=ws, name=cluster_name)\n",
    "    print(f\"Existing Compute using {cluster_name}\")\n",
    "except ComputeTargetException:\n",
    "    compute_config = AmlCompute.provisioning_configuration(vm_size='Standard_D2_V2', max_nodes=4)\n",
    "    compute_target = ComputeTarget.create(workspace=ws, name=cluster_name, provisioning_configuration=compute_config)"
   ]
  },
  {
   "cell_type": "code",
   "execution_count": null,
   "metadata": {
    "gather": {
     "logged": 1598275789986
    },
    "jupyter": {
     "outputs_hidden": false,
     "source_hidden": false
    },
    "nteract": {
     "transient": {
      "deleting": false
     }
    }
   },
   "outputs": [],
   "source": [
    "from azureml.widgets import RunDetails\n",
    "from azureml.train.sklearn import SKLearn\n",
    "from azureml.train.hyperdrive.run import PrimaryMetricGoal\n",
    "from azureml.train.hyperdrive.policy import BanditPolicy\n",
    "from azureml.train.hyperdrive.sampling import RandomParameterSampling\n",
    "from azureml.train.hyperdrive.runconfig import HyperDriveConfig\n",
    "from azureml.train.hyperdrive.parameter_expressions import choice, uniform\n",
    "from azureml.core import Environment, ScriptRunConfig\n",
    "import os\n",
    "\n",
    "# Specify parameter sampler\n",
    "ps = RandomParameterSampling({\n",
    "    \"--C\": uniform(0.1, 2.0),\n",
    "    \"--max_iter\": choice(50, 100, 150, 200)\n",
    "})\n",
    "# Specify a Policy\n",
    "policy = BanditPolicy(slack_factor=0.15, delay_evaluation=10)\n",
    "\n",
    "if \"training\" not in os.listdir():\n",
    "    os.mkdir(\"./training\")\n",
    "\n",
    "# Setup environment for your training run\n",
    "sklearn_env = Environment.from_conda_specification(name='sklearn-env', file_path='conda_dependencies.yml')\n",
    "\n",
    "# Create a ScriptRunConfig Object to specify the configuration details of your training job\n",
    "src = ScriptRunConfig(  script=\"train.py\",\n",
    "                        source_directory=\".\",\n",
    "                        environment=sklearn_env,\n",
    "                        compute_target=compute_target)\n",
    "\n",
    "# Create a HyperDriveConfig using the src object, hyperparameter sampler, and policy.\n",
    "hyperdrive_config = HyperDriveConfig(hyperparameter_sampling=ps,\n",
    "                                    run_config=src,\n",
    "                                    policy=policy,\n",
    "                                    primary_metric_name=\"Accuracy\",\n",
    "                                    primary_metric_goal=PrimaryMetricGoal.MAXIMIZE,\n",
    "                                    max_concurrent_runs=4,\n",
    "                                    max_total_runs=20\n",
    "                                    )"
   ]
  },
  {
   "cell_type": "code",
   "execution_count": null,
   "metadata": {},
   "outputs": [],
   "source": [
    "# Submit your hyperdrive run to the experiment and show run details with the widget.\n",
    "\n",
    "### YOUR CODE HERE ###\n",
    "exp_run = exp.submit(hyperdrive_config,show_output=True)\n",
    "RunDetails(exp_run).show()\n",
    "exp_run.wait_for_completion(show_output=True)"
   ]
  },
  {
   "cell_type": "code",
   "execution_count": null,
   "metadata": {
    "gather": {
     "logged": 1598276310862
    },
    "jupyter": {
     "outputs_hidden": false,
     "source_hidden": false
    },
    "nteract": {
     "transient": {
      "deleting": false
     }
    }
   },
   "outputs": [],
   "source": [
    "import joblib\n",
    "# Get your best run and save the model from that run.\n",
    "\n",
    "### YOUR CODE HERE ###\n",
    "best_run = exp_run.get_best_run_by_primary_metric()\n",
    "best_run_metrics = best_run.get_metrics()\n",
    "best_run_file_names = best_run.get_file_names()\n",
    "print('Metrics: ', best_run_metrics)\n",
    "print(\"\\n\\nBest run file names :\", best_run_file_names)\n",
    "print('\\n\\nRun Id: {} Accuracy: {}'.format(best_run.id, best_run_metrics['Accuracy']))\n",
    "model_path = \"./outputs/{}_model.joblib\".format(best_run.id)\n",
    "final_model = best_run.register_model(model_name = 'hyperdrive_model',model_path = model_path)\n"
   ]
  },
  {
   "cell_type": "code",
   "execution_count": 3,
   "metadata": {},
   "outputs": [],
   "source": [
    "from azureml.data.dataset_factory import TabularDatasetFactory\n",
    "\n",
    "# Create TabularDataset using TabularDatasetFactory\n",
    "# Data is available at: \n",
    "# \"https://automlsamplenotebookdata.blob.core.windows.net/automl-sample-notebook-data/bankmarketing_train.csv\"\n",
    "\n",
    "### YOUR CODE HERE ###\n",
    "data_url = \"https://automlsamplenotebookdata.blob.core.windows.net/automl-sample-notebook-data/bankmarketing_train.csv\"\n",
    "ds = TabularDatasetFactory.from_delimited_files(data_url)"
   ]
  },
  {
   "cell_type": "code",
   "execution_count": 4,
   "metadata": {},
   "outputs": [
    {
     "name": "stdout",
     "output_type": "stream",
     "text": [
      "   age  marital  default  housing  loan  month  day_of_week  duration  \\\n",
      "0   57        1        0        0     1      5            1       371   \n",
      "1   55        1        0        1     0      5            4       285   \n",
      "2   33        1        0        0     0      5            5        52   \n",
      "3   36        1        0        0     0      6            5       355   \n",
      "4   27        1        0        1     0      7            5       189   \n",
      "\n",
      "   campaign  pdays  ...  contact_telephone  education_basic.4y  \\\n",
      "0         1    999  ...                  0                   0   \n",
      "1         2    999  ...                  1                   0   \n",
      "2         1    999  ...                  0                   0   \n",
      "3         4    999  ...                  1                   0   \n",
      "4         2    999  ...                  0                   0   \n",
      "\n",
      "   education_basic.6y  education_basic.9y  education_high.school  \\\n",
      "0                   0                   0                      1   \n",
      "1                   0                   0                      0   \n",
      "2                   0                   1                      0   \n",
      "3                   0                   0                      1   \n",
      "4                   0                   0                      1   \n",
      "\n",
      "   education_illiterate  education_professional.course  \\\n",
      "0                     0                              0   \n",
      "1                     0                              0   \n",
      "2                     0                              0   \n",
      "3                     0                              0   \n",
      "4                     0                              0   \n",
      "\n",
      "   education_university.degree  education_unknown  y  \n",
      "0                            0                  0  0  \n",
      "1                            0                  1  0  \n",
      "2                            0                  0  0  \n",
      "3                            0                  0  0  \n",
      "4                            0                  0  0  \n",
      "\n",
      "[5 rows x 40 columns]\n",
      "Validating arguments.\n",
      "Arguments validated.\n",
      "Successfully obtained datastore reference and path.\n",
      "Uploading file to managed-dataset/82e12cea-440d-4150-8b2c-3e20255a86c5/\n",
      "Successfully uploaded file to datastore.\n",
      "Creating and registering a new dataset.\n",
      "Successfully created and registered a new dataset.\n"
     ]
    }
   ],
   "source": [
    "from train import clean_data\n",
    "import pandas as pd\n",
    "from sklearn.model_selection import train_test_split\n",
    "from azureml.core import Dataset\n",
    "\n",
    "# Use the clean_data function to clean your data.\n",
    "x, y = clean_data(ds)\n",
    "final_data = pd.concat([x, y], axis=1)\n",
    "print(final_data.head())\n",
    "\n",
    "train_data, test_data = train_test_split(final_data, test_size=0.2)\n",
    "ds = ws.get_default_datastore()\n",
    "\n",
    "automl_dataset = Dataset.Tabular.register_pandas_dataframe(train_data, ds, 'automl-dataset')"
   ]
  },
  {
   "cell_type": "code",
   "execution_count": 5,
   "metadata": {
    "gather": {
     "logged": 1598275665403
    },
    "jupyter": {
     "outputs_hidden": false,
     "source_hidden": false
    },
    "nteract": {
     "transient": {
      "deleting": false
     }
    }
   },
   "outputs": [],
   "source": [
    "from azureml.train.automl import AutoMLConfig\n",
    "\n",
    "# Set parameters for AutoMLConfig\n",
    "# NOTE: DO NOT CHANGE THE experiment_timeout_minutes PARAMETER OR YOUR INSTANCE WILL TIME OUT.\n",
    "# If you wish to run the experiment longer, you will need to run this notebook in your own\n",
    "# Azure tenant, which will incur personal costs.\n",
    "automl_config = AutoMLConfig(\n",
    "    experiment_timeout_minutes=30,\n",
    "    task='classification',\n",
    "    primary_metric='accuracy',\n",
    "    training_data=automl_dataset,\n",
    "    label_column_name='y',\n",
    "    compute_target=compute_target,\n",
    "    n_cross_validations=5)"
   ]
  },
  {
   "cell_type": "code",
   "execution_count": 6,
   "metadata": {
    "jupyter": {
     "outputs_hidden": false,
     "source_hidden": false
    },
    "nteract": {
     "transient": {
      "deleting": false
     }
    }
   },
   "outputs": [
    {
     "name": "stdout",
     "output_type": "stream",
     "text": [
      "Submitting remote run.\n",
      "No run_configuration provided, running on compute-cluster with default configuration\n",
      "Running on remote compute: compute-cluster\n"
     ]
    },
    {
     "data": {
      "text/html": [
       "<table style=\"width:100%\"><tr><th>Experiment</th><th>Id</th><th>Type</th><th>Status</th><th>Details Page</th><th>Docs Page</th></tr><tr><td>udacity-project</td><td>AutoML_010aa149-434e-4c86-8554-4bcbcb2240a0</td><td>automl</td><td>NotStarted</td><td><a href=\"https://ml.azure.com/runs/AutoML_010aa149-434e-4c86-8554-4bcbcb2240a0?wsid=/subscriptions/a24a24d5-8d87-4c8a-99b6-91ed2d2df51f/resourcegroups/aml-quickstarts-187962/workspaces/quick-starts-ws-187962&amp;tid=660b3398-b80e-49d2-bc5b-ac1dc93b5254\" target=\"_blank\" rel=\"noopener\">Link to Azure Machine Learning studio</a></td><td><a href=\"https://docs.microsoft.com/en-us/python/api/overview/azure/ml/intro?view=azure-ml-py\" target=\"_blank\" rel=\"noopener\">Link to Documentation</a></td></tr></table>"
      ],
      "text/plain": [
       "<IPython.core.display.HTML object>"
      ]
     },
     "metadata": {},
     "output_type": "display_data"
    },
    {
     "name": "stdout",
     "output_type": "stream",
     "text": [
      "\n",
      "Current status: FeaturesGeneration. Generating features for the dataset.\n",
      "Current status: DatasetFeaturization. Beginning to fit featurizers and featurize the dataset.\n",
      "Current status: DatasetBalancing. Performing class balancing sweeping\n",
      "Current status: DatasetCrossValidationSplit. Generating individually featurized CV splits.\n",
      "Current status: ModelSelection. Beginning model selection.\n",
      "\n",
      "********************************************************************************************\n",
      "DATA GUARDRAILS: \n",
      "\n",
      "TYPE:         Class balancing detection\n",
      "STATUS:       ALERTED\n",
      "DESCRIPTION:  To decrease model bias, please cancel the current run and fix balancing problem.\n",
      "              Learn more about imbalanced data: https://aka.ms/AutomatedMLImbalancedData\n",
      "DETAILS:      Imbalanced data can lead to a falsely perceived positive effect of a model's accuracy because the input data has bias towards one class.\n",
      "+------------------------------+--------------------------------+--------------------------------------+\n",
      "|Size of the smallest class    |Name/Label of the smallest class|Number of samples in the training data|\n",
      "+==============================+================================+======================================+\n",
      "|2982                          |1                               |26360                                 |\n",
      "+------------------------------+--------------------------------+--------------------------------------+\n",
      "\n",
      "********************************************************************************************\n",
      "\n",
      "TYPE:         Missing feature values imputation\n",
      "STATUS:       PASSED\n",
      "DESCRIPTION:  No feature missing values were detected in the training data.\n",
      "              Learn more about missing value imputation: https://aka.ms/AutomatedMLFeaturization\n",
      "\n",
      "********************************************************************************************\n",
      "\n",
      "TYPE:         High cardinality feature detection\n",
      "STATUS:       PASSED\n",
      "DESCRIPTION:  Your inputs were analyzed, and no high cardinality features were detected.\n",
      "              Learn more about high cardinality feature handling: https://aka.ms/AutomatedMLFeaturization\n",
      "\n",
      "********************************************************************************************\n",
      "\n",
      "********************************************************************************************\n",
      "ITER: The iteration being evaluated.\n",
      "PIPELINE: A summary description of the pipeline being evaluated.\n",
      "DURATION: Time taken for the current iteration.\n",
      "METRIC: The result of computing score on the fitted pipeline.\n",
      "BEST: The best observed score thus far.\n",
      "********************************************************************************************\n",
      "\n",
      " ITER   PIPELINE                                       DURATION            METRIC      BEST\n",
      "    0   MaxAbsScaler LightGBM                          0:00:11             0.9129    0.9129\n",
      "    1   MaxAbsScaler XGBoostClassifier                 0:00:17             0.9138    0.9138\n",
      "    2   MaxAbsScaler ExtremeRandomTrees                0:00:16             0.7288    0.9138\n",
      "    3   SparseNormalizer XGBoostClassifier             0:00:13             0.9119    0.9138\n",
      "    4   MaxAbsScaler LightGBM                          0:00:09             0.9099    0.9138\n",
      "    5   MaxAbsScaler LightGBM                          0:00:09             0.8872    0.9138\n",
      "    6   StandardScalerWrapper XGBoostClassifier        0:00:12             0.9076    0.9138\n",
      "    7   MaxAbsScaler LogisticRegression                0:00:14             0.9066    0.9138\n",
      "    8   StandardScalerWrapper ExtremeRandomTrees       0:00:10             0.8871    0.9138\n",
      "    9   StandardScalerWrapper XGBoostClassifier        0:00:11             0.9083    0.9138\n",
      "   10   SparseNormalizer LightGBM                      0:00:09             0.9031    0.9138\n",
      "   11   StandardScalerWrapper XGBoostClassifier        0:00:10             0.9104    0.9138\n",
      "   12   MaxAbsScaler LogisticRegression                0:00:14             0.9064    0.9138\n",
      "   13   MaxAbsScaler SGD                               0:00:09             0.8628    0.9138\n",
      "   14   StandardScalerWrapper XGBoostClassifier        0:00:12             0.9118    0.9138\n",
      "   15   SparseNormalizer RandomForest                  0:00:26             0.8173    0.9138\n",
      "   16   StandardScalerWrapper LogisticRegression       0:00:11             0.9071    0.9138\n",
      "   17   StandardScalerWrapper RandomForest             0:00:15             0.8992    0.9138\n",
      "   18   StandardScalerWrapper XGBoostClassifier        0:00:15             0.9122    0.9138\n",
      "   19   TruncatedSVDWrapper RandomForest               0:02:28             0.8194    0.9138\n",
      "   20   TruncatedSVDWrapper RandomForest               0:01:26             0.8323    0.9138\n",
      "   21   StandardScalerWrapper XGBoostClassifier        0:00:04             0.9118    0.9138\n",
      "   22   StandardScalerWrapper LightGBM                 0:00:04             0.9063    0.9138\n",
      "   23                                                  0:10:01                nan    0.9138\n",
      "ERROR: {\n",
      "    \"additional_properties\": {},\n",
      "    \"error\": {\n",
      "        \"additional_properties\": {\n",
      "            \"debugInfo\": null\n",
      "        },\n",
      "        \"code\": \"ServiceError\",\n",
      "        \"severity\": null,\n",
      "        \"message\": \"Execution Service failed to start the working state for the run. Please try again.\",\n",
      "        \"message_format\": null,\n",
      "        \"message_parameters\": null,\n",
      "        \"reference_code\": null,\n",
      "        \"details_uri\": null,\n",
      "        \"target\": null,\n",
      "        \"details\": [],\n",
      "        \"inner_error\": null,\n",
      "        \"additional_info\": null\n",
      "    },\n",
      "    \"correlation\": {\n",
      "        \"operation\": \"c2e7e46985c2ffc93e668badd53569ff\",\n",
      "        \"request\": \"72d8298e0b431148\"\n",
      "    },\n",
      "    \"environment\": \"southcentralus\",\n",
      "    \"location\": \"southcentralus\",\n",
      "    \"time\": {},\n",
      "    \"component_name\": \"execution-worker\"\n",
      "}\n",
      "   24   SparseNormalizer XGBoostClassifier             0:00:04             0.9118    0.9138\n",
      "   25   SparseNormalizer XGBoostClassifier             0:00:04             0.9119    0.9138\n",
      "   26   MaxAbsScaler LogisticRegression                0:00:04             0.9064    0.9138\n",
      "   27   MaxAbsScaler LogisticRegression                0:00:04             0.9068    0.9138\n",
      "   28   SparseNormalizer XGBoostClassifier             0:00:04             0.9115    0.9138\n",
      "   29   TruncatedSVDWrapper XGBoostClassifier          0:00:04             0.9108    0.9138\n",
      "   30    VotingEnsemble                                0:00:04             0.9163    0.9163\n",
      "   31    StackEnsemble                                 0:00:04             0.9135    0.9163\n"
     ]
    },
    {
     "data": {
      "application/vnd.jupyter.widget-view+json": {
       "model_id": "84c6b0ce3bd14b589ad07c6797a2cf6a",
       "version_major": 2,
       "version_minor": 0
      },
      "text/plain": [
       "_AutoMLWidget(widget_settings={'childWidgetDisplay': 'popup', 'send_telemetry': False, 'log_level': 'INFO', 's…"
      ]
     },
     "metadata": {},
     "output_type": "display_data"
    },
    {
     "data": {
      "application/aml.mini.widget.v1": "{\"status\": \"Completed\", \"workbench_run_details_uri\": \"https://ml.azure.com/runs/AutoML_010aa149-434e-4c86-8554-4bcbcb2240a0?wsid=/subscriptions/a24a24d5-8d87-4c8a-99b6-91ed2d2df51f/resourcegroups/aml-quickstarts-187962/workspaces/quick-starts-ws-187962&tid=660b3398-b80e-49d2-bc5b-ac1dc93b5254\", \"run_id\": \"AutoML_010aa149-434e-4c86-8554-4bcbcb2240a0\", \"run_properties\": {\"run_id\": \"AutoML_010aa149-434e-4c86-8554-4bcbcb2240a0\", \"created_utc\": \"2022-03-03T23:37:26.335387Z\", \"properties\": {\"num_iterations\": \"1000\", \"training_type\": \"TrainFull\", \"acquisition_function\": \"EI\", \"primary_metric\": \"accuracy\", \"train_split\": \"0\", \"acquisition_parameter\": \"0\", \"num_cross_validation\": \"5\", \"target\": \"compute-cluster\", \"AMLSettingsJsonString\": \"{\\\"path\\\":null,\\\"name\\\":\\\"udacity-project\\\",\\\"subscription_id\\\":\\\"a24a24d5-8d87-4c8a-99b6-91ed2d2df51f\\\",\\\"resource_group\\\":\\\"aml-quickstarts-187962\\\",\\\"workspace_name\\\":\\\"quick-starts-ws-187962\\\",\\\"region\\\":\\\"southcentralus\\\",\\\"compute_target\\\":\\\"compute-cluster\\\",\\\"spark_service\\\":null,\\\"azure_service\\\":\\\"remote\\\",\\\"many_models\\\":false,\\\"pipeline_fetch_max_batch_size\\\":1,\\\"enable_batch_run\\\":true,\\\"enable_run_restructure\\\":false,\\\"start_auxiliary_runs_before_parent_complete\\\":false,\\\"enable_code_generation\\\":false,\\\"iterations\\\":1000,\\\"primary_metric\\\":\\\"accuracy\\\",\\\"task_type\\\":\\\"classification\\\",\\\"positive_label\\\":null,\\\"data_script\\\":null,\\\"test_size\\\":0.0,\\\"test_include_predictions_only\\\":false,\\\"validation_size\\\":0.0,\\\"n_cross_validations\\\":5,\\\"y_min\\\":null,\\\"y_max\\\":null,\\\"num_classes\\\":null,\\\"featurization\\\":\\\"auto\\\",\\\"_ignore_package_version_incompatibilities\\\":false,\\\"is_timeseries\\\":false,\\\"max_cores_per_iteration\\\":1,\\\"max_concurrent_iterations\\\":1,\\\"iteration_timeout_minutes\\\":null,\\\"mem_in_mb\\\":null,\\\"enforce_time_on_windows\\\":false,\\\"experiment_timeout_minutes\\\":30,\\\"experiment_exit_score\\\":null,\\\"whitelist_models\\\":null,\\\"blacklist_algos\\\":[\\\"TensorFlowLinearClassifier\\\",\\\"TensorFlowDNN\\\"],\\\"supported_models\\\":[\\\"SVM\\\",\\\"GradientBoosting\\\",\\\"BernoulliNaiveBayes\\\",\\\"XGBoostClassifier\\\",\\\"TensorFlowLinearClassifier\\\",\\\"TabnetClassifier\\\",\\\"LogisticRegression\\\",\\\"KNN\\\",\\\"RandomForest\\\",\\\"SGD\\\",\\\"LinearSVM\\\",\\\"MultinomialNaiveBayes\\\",\\\"ExtremeRandomTrees\\\",\\\"AveragedPerceptronClassifier\\\",\\\"LightGBM\\\",\\\"TensorFlowDNN\\\",\\\"DecisionTree\\\"],\\\"private_models\\\":[],\\\"auto_blacklist\\\":true,\\\"blacklist_samples_reached\\\":false,\\\"exclude_nan_labels\\\":true,\\\"verbosity\\\":20,\\\"_debug_log\\\":\\\"azureml_automl.log\\\",\\\"show_warnings\\\":false,\\\"model_explainability\\\":true,\\\"service_url\\\":null,\\\"sdk_url\\\":null,\\\"sdk_packages\\\":null,\\\"enable_onnx_compatible_models\\\":false,\\\"enable_split_onnx_featurizer_estimator_models\\\":false,\\\"vm_type\\\":\\\"STANDARD_D2_V2\\\",\\\"telemetry_verbosity\\\":20,\\\"send_telemetry\\\":true,\\\"enable_dnn\\\":false,\\\"scenario\\\":\\\"SDK-1.13.0\\\",\\\"environment_label\\\":null,\\\"save_mlflow\\\":false,\\\"enable_categorical_indicators\\\":false,\\\"force_text_dnn\\\":false,\\\"enable_feature_sweeping\\\":true,\\\"enable_early_stopping\\\":true,\\\"early_stopping_n_iters\\\":10,\\\"arguments\\\":null,\\\"dataset_id\\\":null,\\\"hyperdrive_config\\\":null,\\\"validation_dataset_id\\\":null,\\\"run_source\\\":null,\\\"metrics\\\":null,\\\"enable_metric_confidence\\\":false,\\\"enable_ensembling\\\":true,\\\"enable_stack_ensembling\\\":true,\\\"ensemble_iterations\\\":15,\\\"enable_tf\\\":false,\\\"enable_subsampling\\\":null,\\\"subsample_seed\\\":null,\\\"enable_nimbusml\\\":false,\\\"enable_streaming\\\":false,\\\"force_streaming\\\":false,\\\"track_child_runs\\\":true,\\\"allowed_private_models\\\":[],\\\"label_column_name\\\":\\\"y\\\",\\\"weight_column_name\\\":null,\\\"cv_split_column_names\\\":null,\\\"enable_local_managed\\\":false,\\\"_local_managed_run_id\\\":null,\\\"cost_mode\\\":1,\\\"lag_length\\\":0,\\\"metric_operation\\\":\\\"maximize\\\",\\\"preprocess\\\":true}\", \"DataPrepJsonString\": \"{\\\\\\\"training_data\\\\\\\": {\\\\\\\"datasetId\\\\\\\": \\\\\\\"a6458ec4-6c60-43ab-ade9-aa42c64db393\\\\\\\"}, \\\\\\\"datasets\\\\\\\": 0}\", \"EnableSubsampling\": null, \"runTemplate\": \"AutoML\", \"azureml.runsource\": \"automl\", \"display_task_type\": \"classification\", \"dependencies_versions\": \"{\\\"azureml-widgets\\\": \\\"1.38.0\\\", \\\"azureml-train\\\": \\\"1.38.0\\\", \\\"azureml-train-restclients-hyperdrive\\\": \\\"1.38.0\\\", \\\"azureml-train-core\\\": \\\"1.38.0\\\", \\\"azureml-train-automl-client\\\": \\\"1.38.0\\\", \\\"azureml-tensorboard\\\": \\\"1.38.0\\\", \\\"azureml-telemetry\\\": \\\"1.38.0\\\", \\\"azureml-sdk\\\": \\\"1.38.0\\\", \\\"azureml-samples\\\": \\\"0+unknown\\\", \\\"azureml-responsibleai\\\": \\\"1.38.0\\\", \\\"azureml-pipeline\\\": \\\"1.38.0\\\", \\\"azureml-pipeline-steps\\\": \\\"1.38.0\\\", \\\"azureml-pipeline-core\\\": \\\"1.38.0\\\", \\\"azureml-opendatasets\\\": \\\"1.38.0\\\", \\\"azureml-mlflow\\\": \\\"1.38.0\\\", \\\"azureml-interpret\\\": \\\"1.38.0\\\", \\\"azureml-inference-server-http\\\": \\\"0.4.2\\\", \\\"azureml-explain-model\\\": \\\"1.38.0\\\", \\\"azureml-defaults\\\": \\\"1.38.0\\\", \\\"azureml-dataset-runtime\\\": \\\"1.38.0\\\", \\\"azureml-dataprep\\\": \\\"2.26.0\\\", \\\"azureml-dataprep-rslex\\\": \\\"2.2.0\\\", \\\"azureml-dataprep-native\\\": \\\"38.0.0\\\", \\\"azureml-datadrift\\\": \\\"1.38.0\\\", \\\"azureml-core\\\": \\\"1.38.0\\\", \\\"azureml-contrib-services\\\": \\\"1.38.0\\\", \\\"azureml-contrib-server\\\": \\\"1.38.0\\\", \\\"azureml-contrib-reinforcementlearning\\\": \\\"1.38.0\\\", \\\"azureml-contrib-pipeline-steps\\\": \\\"1.38.0\\\", \\\"azureml-contrib-notebook\\\": \\\"1.38.0\\\", \\\"azureml-contrib-fairness\\\": \\\"1.38.0\\\", \\\"azureml-contrib-dataset\\\": \\\"1.38.0\\\", \\\"azureml-cli-common\\\": \\\"1.38.0\\\", \\\"azureml-automl-core\\\": \\\"1.38.0\\\", \\\"azureml-accel-models\\\": \\\"1.38.0\\\"}\", \"_aml_system_scenario_identification\": \"Remote.Parent\", \"ClientType\": \"SDK\", \"environment_cpu_name\": \"AzureML-AutoML\", \"environment_cpu_label\": \"py36\", \"environment_gpu_name\": \"AzureML-AutoML-GPU\", \"environment_gpu_label\": \"py36\", \"root_attribution\": \"automl\", \"attribution\": \"AutoML\", \"Orchestrator\": \"AutoML\", \"CancelUri\": \"https://southcentralus.api.azureml.ms/jasmine/v1.0/subscriptions/a24a24d5-8d87-4c8a-99b6-91ed2d2df51f/resourceGroups/aml-quickstarts-187962/providers/Microsoft.MachineLearningServices/workspaces/quick-starts-ws-187962/experimentids/2a8e1d5a-d9da-417d-bdcc-056d4cd51329/cancel/AutoML_010aa149-434e-4c86-8554-4bcbcb2240a0\", \"ClientSdkVersion\": \"1.38.0\", \"snapshotId\": \"00000000-0000-0000-0000-000000000000\", \"SetupRunId\": \"AutoML_010aa149-434e-4c86-8554-4bcbcb2240a0_setup\", \"SetupRunContainerId\": \"dcid.AutoML_010aa149-434e-4c86-8554-4bcbcb2240a0_setup\", \"FeaturizationRunJsonPath\": \"featurizer_container.json\", \"FeaturizationRunId\": \"AutoML_010aa149-434e-4c86-8554-4bcbcb2240a0_featurize\", \"ProblemInfoJsonString\": \"{\\\"dataset_num_categorical\\\": 0, \\\"is_sparse\\\": true, \\\"subsampling\\\": false, \\\"has_extra_col\\\": true, \\\"dataset_classes\\\": 2, \\\"dataset_features\\\": 120, \\\"dataset_samples\\\": 26360, \\\"single_frequency_class_detected\\\": false}\", \"ModelExplainRunId\": \"AutoML_010aa149-434e-4c86-8554-4bcbcb2240a0_ModelExplain\"}, \"tags\": {\"model_explain_run\": \"best_run\", \"_aml_system_azureml.automlComponent\": \"AutoML\", \"pipeline_id\": \"\", \"score\": \"\", \"predicted_cost\": \"\", \"fit_time\": \"\", \"training_percent\": \"\", \"iteration\": \"\", \"run_preprocessor\": \"\", \"run_algorithm\": \"\", \"dynamic_whitelisting_iterations\": \"<25>;\", \"_aml_system_azureml.automl_early_exit_message\": \"No scores improved over last 20 iterations, so experiment stopped early. This early stopping behavior can be disabled by setting enable_early_stopping = False in AutoMLConfig for notebook/python SDK runs.\", \"automl_best_child_run_id\": \"AutoML_010aa149-434e-4c86-8554-4bcbcb2240a0_30\", \"model_explain_best_run_child_id\": \"AutoML_010aa149-434e-4c86-8554-4bcbcb2240a0_30\"}, \"end_time_utc\": \"2022-03-04T00:18:18.397945Z\", \"status\": \"Completed\", \"log_files\": {}, \"log_groups\": [], \"run_duration\": \"0:40:52\", \"run_number\": \"1646350646\", \"run_queued_details\": {\"status\": \"Completed\", \"details\": null}}, \"child_runs\": [{\"run_id\": \"AutoML_010aa149-434e-4c86-8554-4bcbcb2240a0_setup\", \"run_number\": 1646350658, \"metric\": null, \"status\": \"Completed\", \"run_type\": \"azureml.scriptrun\", \"training_percent\": null, \"start_time\": \"2022-03-03T23:41:43.866325Z\", \"end_time\": \"2022-03-03T23:42:25.967696Z\", \"created_time\": \"2022-03-03T23:37:38.53748Z\", \"created_time_dt\": \"2022-03-03T23:37:38.53748Z\", \"duration\": \"0:04:47\", \"iteration\": null, \"goal\": null, \"run_name\": \"Completed\", \"run_properties\": null}, {\"run_id\": \"AutoML_010aa149-434e-4c86-8554-4bcbcb2240a0_featurize\", \"run_number\": 1646350946, \"metric\": null, \"status\": \"Completed\", \"run_type\": \"automl.featurization\", \"training_percent\": null, \"start_time\": \"2022-03-03T23:42:27.088899Z\", \"end_time\": \"2022-03-03T23:46:45.643452Z\", \"created_time\": \"2022-03-03T23:42:26.360203Z\", \"created_time_dt\": \"2022-03-03T23:42:26.360203Z\", \"duration\": \"0:04:19\", \"iteration\": null, \"goal\": null, \"run_name\": \"Completed\", \"run_properties\": null}, {\"run_id\": \"AutoML_010aa149-434e-4c86-8554-4bcbcb2240a0_0\", \"run_number\": 1646351207, \"metric\": null, \"status\": \"Completed\", \"run_type\": null, \"training_percent\": \"100\", \"start_time\": \"2022-03-03T23:47:13.866949Z\", \"end_time\": \"2022-03-03T23:47:25.20941Z\", \"created_time\": \"2022-03-03T23:46:47.512321Z\", \"created_time_dt\": \"2022-03-03T23:46:47.512321Z\", \"duration\": \"0:00:37\", \"iteration\": \"0\", \"goal\": \"accuracy_max\", \"run_name\": \"MaxAbsScaler, LightGBM\", \"run_properties\": \"copy=True\", \"primary_metric\": 0.91289833, \"best_metric\": 0.91289833}, {\"run_id\": \"AutoML_010aa149-434e-4c86-8554-4bcbcb2240a0_1\", \"run_number\": 1646351208, \"metric\": null, \"status\": \"Completed\", \"run_type\": null, \"training_percent\": \"100\", \"start_time\": \"2022-03-03T23:47:25.401179Z\", \"end_time\": \"2022-03-03T23:47:42.207039Z\", \"created_time\": \"2022-03-03T23:46:48.328671Z\", \"created_time_dt\": \"2022-03-03T23:46:48.328671Z\", \"duration\": \"0:00:53\", \"iteration\": \"1\", \"goal\": \"accuracy_max\", \"run_name\": \"MaxAbsScaler, XGBoostClassifier\", \"run_properties\": \"copy=True\", \"primary_metric\": 0.91377086, \"best_metric\": 0.91377086}, {\"run_id\": \"AutoML_010aa149-434e-4c86-8554-4bcbcb2240a0_3\", \"run_number\": 1646351209, \"metric\": null, \"status\": \"Completed\", \"run_type\": null, \"training_percent\": \"100\", \"start_time\": \"2022-03-03T23:47:58.572291Z\", \"end_time\": \"2022-03-03T23:48:11.657247Z\", \"created_time\": \"2022-03-03T23:46:49.277584Z\", \"created_time_dt\": \"2022-03-03T23:46:49.277584Z\", \"duration\": \"0:01:22\", \"iteration\": \"3\", \"goal\": \"accuracy_max\", \"run_name\": \"SparseNormalizer, XGBoostClassifier\", \"run_properties\": \"copy=True, norm='l2'\", \"primary_metric\": 0.91194992, \"best_metric\": 0.91377086}, {\"run_id\": \"AutoML_010aa149-434e-4c86-8554-4bcbcb2240a0_5\", \"run_number\": 1646351210, \"metric\": null, \"status\": \"Completed\", \"run_type\": null, \"training_percent\": \"100\", \"start_time\": \"2022-03-03T23:48:21.457306Z\", \"end_time\": \"2022-03-03T23:48:30.85453Z\", \"created_time\": \"2022-03-03T23:46:50.287882Z\", \"created_time_dt\": \"2022-03-03T23:46:50.287882Z\", \"duration\": \"0:01:40\", \"iteration\": \"5\", \"goal\": \"accuracy_max\", \"run_name\": \"MaxAbsScaler, LightGBM\", \"run_properties\": \"copy=True\", \"primary_metric\": 0.88721548, \"best_metric\": 0.91377086}, {\"run_id\": \"AutoML_010aa149-434e-4c86-8554-4bcbcb2240a0_7\", \"run_number\": 1646351211, \"metric\": null, \"status\": \"Completed\", \"run_type\": null, \"training_percent\": \"100\", \"start_time\": \"2022-03-03T23:48:42.826959Z\", \"end_time\": \"2022-03-03T23:48:56.633977Z\", \"created_time\": \"2022-03-03T23:46:51.208959Z\", \"created_time_dt\": \"2022-03-03T23:46:51.208959Z\", \"duration\": \"0:02:05\", \"iteration\": \"7\", \"goal\": \"accuracy_max\", \"run_name\": \"MaxAbsScaler, LogisticRegression\", \"run_properties\": \"copy=True\", \"primary_metric\": 0.90656297, \"best_metric\": 0.91377086}, {\"run_id\": \"AutoML_010aa149-434e-4c86-8554-4bcbcb2240a0_8\", \"run_number\": 1646351212, \"metric\": null, \"status\": \"Completed\", \"run_type\": null, \"training_percent\": \"100\", \"start_time\": \"2022-03-03T23:48:56.823712Z\", \"end_time\": \"2022-03-03T23:49:06.775103Z\", \"created_time\": \"2022-03-03T23:46:52.038956Z\", \"created_time_dt\": \"2022-03-03T23:46:52.038956Z\", \"duration\": \"0:02:14\", \"iteration\": \"8\", \"goal\": \"accuracy_max\", \"run_name\": \"StandardScalerWrapper, ExtremeRandomTrees\", \"run_properties\": \"\\n    copy=True,\\n    with_mean=False,\\n    with_std=False\\n\", \"primary_metric\": 0.88706373, \"best_metric\": 0.91377086}, {\"run_id\": \"AutoML_010aa149-434e-4c86-8554-4bcbcb2240a0_10\", \"run_number\": 1646351213, \"metric\": null, \"status\": \"Completed\", \"run_type\": null, \"training_percent\": \"100\", \"start_time\": \"2022-03-03T23:49:17.692929Z\", \"end_time\": \"2022-03-03T23:49:27.025435Z\", \"created_time\": \"2022-03-03T23:46:52.998883Z\", \"created_time_dt\": \"2022-03-03T23:46:52.998883Z\", \"duration\": \"0:02:34\", \"iteration\": \"10\", \"goal\": \"accuracy_max\", \"run_name\": \"SparseNormalizer, LightGBM\", \"run_properties\": \"copy=True, norm='l1'\", \"primary_metric\": 0.90314871, \"best_metric\": 0.91377086}, {\"run_id\": \"AutoML_010aa149-434e-4c86-8554-4bcbcb2240a0_11\", \"run_number\": 1646351215, \"metric\": null, \"status\": \"Completed\", \"run_type\": null, \"training_percent\": \"100\", \"start_time\": \"2022-03-03T23:49:27.23139Z\", \"end_time\": \"2022-03-03T23:49:37.551809Z\", \"created_time\": \"2022-03-03T23:46:55.251988Z\", \"created_time_dt\": \"2022-03-03T23:46:55.251988Z\", \"duration\": \"0:02:42\", \"iteration\": \"11\", \"goal\": \"accuracy_max\", \"run_name\": \"StandardScalerWrapper, XGBoostClassifier\", \"run_properties\": \"\\n    copy=True,\\n    with_mean=False,\\n    with_std=False\\n\", \"primary_metric\": 0.9103566, \"best_metric\": 0.91377086}, {\"run_id\": \"AutoML_010aa149-434e-4c86-8554-4bcbcb2240a0_13\", \"run_number\": 1646351216, \"metric\": null, \"status\": \"Completed\", \"run_type\": null, \"training_percent\": \"100\", \"start_time\": \"2022-03-03T23:49:51.503658Z\", \"end_time\": \"2022-03-03T23:50:00.437553Z\", \"created_time\": \"2022-03-03T23:46:56.155682Z\", \"created_time_dt\": \"2022-03-03T23:46:56.155682Z\", \"duration\": \"0:03:04\", \"iteration\": \"13\", \"goal\": \"accuracy_max\", \"run_name\": \"MaxAbsScaler, SGD\", \"run_properties\": \"copy=True\", \"primary_metric\": 0.86282246, \"best_metric\": 0.91377086}, {\"run_id\": \"AutoML_010aa149-434e-4c86-8554-4bcbcb2240a0_15\", \"run_number\": 1646351217, \"metric\": null, \"status\": \"Completed\", \"run_type\": null, \"training_percent\": \"100\", \"start_time\": \"2022-03-03T23:50:13.04647Z\", \"end_time\": \"2022-03-03T23:50:38.584286Z\", \"created_time\": \"2022-03-03T23:46:57.107313Z\", \"created_time_dt\": \"2022-03-03T23:46:57.107313Z\", \"duration\": \"0:03:41\", \"iteration\": \"15\", \"goal\": \"accuracy_max\", \"run_name\": \"SparseNormalizer, RandomForest\", \"run_properties\": \"copy=True, norm='l2'\", \"primary_metric\": 0.81733687, \"best_metric\": 0.91377086}, {\"run_id\": \"AutoML_010aa149-434e-4c86-8554-4bcbcb2240a0_17\", \"run_number\": 1646351218, \"metric\": null, \"status\": \"Completed\", \"run_type\": null, \"training_percent\": \"100\", \"start_time\": \"2022-03-03T23:50:50.015132Z\", \"end_time\": \"2022-03-03T23:51:04.78978Z\", \"created_time\": \"2022-03-03T23:46:58.031934Z\", \"created_time_dt\": \"2022-03-03T23:46:58.031934Z\", \"duration\": \"0:04:06\", \"iteration\": \"17\", \"goal\": \"accuracy_max\", \"run_name\": \"StandardScalerWrapper, RandomForest\", \"run_properties\": \"\\n    copy=True,\\n    with_mean=False,\\n    with_std=False\\n\", \"primary_metric\": 0.8991654, \"best_metric\": 0.91377086}, {\"run_id\": \"AutoML_010aa149-434e-4c86-8554-4bcbcb2240a0_worker_0\", \"run_number\": 1646351219, \"metric\": null, \"status\": \"Completed\", \"run_type\": \"azureml.scriptrun\", \"training_percent\": null, \"start_time\": \"2022-03-03T23:49:02.206109Z\", \"end_time\": \"2022-03-03T23:53:54.407911Z\", \"created_time\": \"2022-03-03T23:46:59.190424Z\", \"created_time_dt\": \"2022-03-03T23:46:59.190424Z\", \"duration\": \"0:06:55\", \"iteration\": null, \"goal\": null, \"run_name\": \"Completed\", \"run_properties\": null}, {\"run_id\": \"AutoML_010aa149-434e-4c86-8554-4bcbcb2240a0_20\", \"run_number\": 1646351852, \"metric\": null, \"status\": \"Completed\", \"run_type\": \"azureml.scriptrun\", \"training_percent\": \"100\", \"start_time\": \"2022-03-03T23:59:36.501246Z\", \"end_time\": \"2022-03-04T00:01:02.800988Z\", \"created_time\": \"2022-03-03T23:57:31.997192Z\", \"created_time_dt\": \"2022-03-03T23:57:31.997192Z\", \"duration\": \"0:03:30\", \"iteration\": \"20\", \"goal\": \"accuracy_max\", \"run_name\": \"TruncatedSVDWrapper, RandomForest\", \"run_properties\": \"n_components=0.7026315789473684, random_state=None\", \"primary_metric\": 0.8323217, \"best_metric\": 0.91377086}, {\"run_id\": \"AutoML_010aa149-434e-4c86-8554-4bcbcb2240a0_21\", \"run_number\": 1646352064, \"metric\": null, \"status\": \"Completed\", \"run_type\": \"azureml.scriptrun\", \"training_percent\": \"100\", \"start_time\": \"2022-03-04T00:01:31.475133Z\", \"end_time\": \"2022-03-04T00:01:35.067053Z\", \"created_time\": \"2022-03-04T00:01:04.778423Z\", \"created_time_dt\": \"2022-03-04T00:01:04.778423Z\", \"duration\": \"0:00:30\", \"iteration\": \"21\", \"goal\": \"accuracy_max\", \"run_name\": \"StandardScalerWrapper, XGBoostClassifier\", \"run_properties\": \"\\n    copy=True,\\n    with_mean=False,\\n    with_std=False\\n\", \"primary_metric\": 0.91179818, \"best_metric\": 0.91377086}, {\"run_id\": \"AutoML_010aa149-434e-4c86-8554-4bcbcb2240a0_22\", \"run_number\": 1646352096, \"metric\": null, \"status\": \"Completed\", \"run_type\": \"azureml.scriptrun\", \"training_percent\": \"100\", \"start_time\": \"2022-03-04T00:02:06.022025Z\", \"end_time\": \"2022-03-04T00:02:09.630867Z\", \"created_time\": \"2022-03-04T00:01:36.80788Z\", \"created_time_dt\": \"2022-03-04T00:01:36.80788Z\", \"duration\": \"0:00:32\", \"iteration\": \"22\", \"goal\": \"accuracy_max\", \"run_name\": \"StandardScalerWrapper, LightGBM\", \"run_properties\": \"\\n    copy=True,\\n    with_mean=False,\\n    with_std=True\\n\", \"primary_metric\": 0.90633536, \"best_metric\": 0.91377086}, {\"run_id\": \"AutoML_010aa149-434e-4c86-8554-4bcbcb2240a0_23\", \"run_number\": 1646352131, \"metric\": null, \"status\": \"Failed\", \"run_type\": \"azureml.scriptrun\", \"training_percent\": \"100\", \"start_time\": \"2022-03-04T00:02:11.617313Z\", \"end_time\": \"2022-03-04T00:12:12.532045Z\", \"created_time\": \"2022-03-04T00:02:11.617313Z\", \"created_time_dt\": \"2022-03-04T00:02:11.617313Z\", \"duration\": \"0:10:00\", \"iteration\": \"23\", \"goal\": null, \"run_name\": \"Failed\", \"run_properties\": null}, {\"run_id\": \"AutoML_010aa149-434e-4c86-8554-4bcbcb2240a0_24\", \"run_number\": 1646352734, \"metric\": null, \"status\": \"Completed\", \"run_type\": \"azureml.scriptrun\", \"training_percent\": \"100\", \"start_time\": \"2022-03-04T00:12:55.172322Z\", \"end_time\": \"2022-03-04T00:12:58.827796Z\", \"created_time\": \"2022-03-04T00:12:14.473418Z\", \"created_time_dt\": \"2022-03-04T00:12:14.473418Z\", \"duration\": \"0:00:44\", \"iteration\": \"24\", \"goal\": \"accuracy_max\", \"run_name\": \"SparseNormalizer, XGBoostClassifier\", \"run_properties\": \"copy=True, norm='max'\", \"primary_metric\": 0.91176024, \"best_metric\": 0.91377086}, {\"run_id\": \"AutoML_010aa149-434e-4c86-8554-4bcbcb2240a0_25\", \"run_number\": 1646352781, \"metric\": null, \"status\": \"Completed\", \"run_type\": \"azureml.scriptrun\", \"training_percent\": \"100\", \"start_time\": \"2022-03-04T00:13:29.726857Z\", \"end_time\": \"2022-03-04T00:13:33.375097Z\", \"created_time\": \"2022-03-04T00:13:01.599204Z\", \"created_time_dt\": \"2022-03-04T00:13:01.599204Z\", \"duration\": \"0:00:31\", \"iteration\": \"25\", \"goal\": \"accuracy_max\", \"run_name\": \"SparseNormalizer, XGBoostClassifier\", \"run_properties\": \"copy=True, norm='l1'\", \"primary_metric\": 0.91187405, \"best_metric\": 0.91377086}, {\"run_id\": \"AutoML_010aa149-434e-4c86-8554-4bcbcb2240a0_26\", \"run_number\": 1646352815, \"metric\": null, \"status\": \"Completed\", \"run_type\": \"azureml.scriptrun\", \"training_percent\": \"100\", \"start_time\": \"2022-03-04T00:14:00.745125Z\", \"end_time\": \"2022-03-04T00:14:04.438994Z\", \"created_time\": \"2022-03-04T00:13:35.374451Z\", \"created_time_dt\": \"2022-03-04T00:13:35.374451Z\", \"duration\": \"0:00:29\", \"iteration\": \"26\", \"goal\": \"accuracy_max\", \"run_name\": \"MaxAbsScaler, LogisticRegression\", \"run_properties\": \"copy=True\", \"primary_metric\": 0.90644917, \"best_metric\": 0.91377086}, {\"run_id\": \"AutoML_010aa149-434e-4c86-8554-4bcbcb2240a0_27\", \"run_number\": 1646352846, \"metric\": null, \"status\": \"Completed\", \"run_type\": \"azureml.scriptrun\", \"training_percent\": \"100\", \"start_time\": \"2022-03-04T00:14:43.737639Z\", \"end_time\": \"2022-03-04T00:14:47.405118Z\", \"created_time\": \"2022-03-04T00:14:06.211639Z\", \"created_time_dt\": \"2022-03-04T00:14:06.211639Z\", \"duration\": \"0:00:41\", \"iteration\": \"27\", \"goal\": \"accuracy_max\", \"run_name\": \"MaxAbsScaler, LogisticRegression\", \"run_properties\": \"copy=True\", \"primary_metric\": 0.90675266, \"best_metric\": 0.91377086}, {\"run_id\": \"AutoML_010aa149-434e-4c86-8554-4bcbcb2240a0_28\", \"run_number\": 1646352889, \"metric\": null, \"status\": \"Completed\", \"run_type\": \"azureml.scriptrun\", \"training_percent\": \"100\", \"start_time\": \"2022-03-04T00:15:14.938523Z\", \"end_time\": \"2022-03-04T00:15:18.652749Z\", \"created_time\": \"2022-03-04T00:14:49.305104Z\", \"created_time_dt\": \"2022-03-04T00:14:49.305104Z\", \"duration\": \"0:00:29\", \"iteration\": \"28\", \"goal\": \"accuracy_max\", \"run_name\": \"SparseNormalizer, XGBoostClassifier\", \"run_properties\": \"copy=True, norm='l1'\", \"primary_metric\": 0.91145675, \"best_metric\": 0.91377086}, {\"run_id\": \"AutoML_010aa149-434e-4c86-8554-4bcbcb2240a0_29\", \"run_number\": 1646352920, \"metric\": null, \"status\": \"Completed\", \"run_type\": \"azureml.scriptrun\", \"training_percent\": \"100\", \"start_time\": \"2022-03-04T00:16:19.53072Z\", \"end_time\": \"2022-03-04T00:16:23.237062Z\", \"created_time\": \"2022-03-04T00:15:20.372384Z\", \"created_time_dt\": \"2022-03-04T00:15:20.372384Z\", \"duration\": \"0:01:02\", \"iteration\": \"29\", \"goal\": \"accuracy_max\", \"run_name\": \"TruncatedSVDWrapper, XGBoostClassifier\", \"run_properties\": \"n_components=0.6531578947368422, random_state=None\", \"primary_metric\": 0.91081184, \"best_metric\": 0.91377086}, {\"run_id\": \"AutoML_010aa149-434e-4c86-8554-4bcbcb2240a0_30\", \"run_number\": 1646352984, \"metric\": null, \"status\": \"Completed\", \"run_type\": \"azureml.scriptrun\", \"training_percent\": \"100\", \"start_time\": \"2022-03-04T00:17:12.394428Z\", \"end_time\": \"2022-03-04T00:17:16.127647Z\", \"created_time\": \"2022-03-04T00:16:24.182162Z\", \"created_time_dt\": \"2022-03-04T00:16:24.182162Z\", \"duration\": \"0:00:51\", \"iteration\": \"30\", \"goal\": \"accuracy_max\", \"run_name\": \"VotingEnsemble\", \"run_properties\": \"\\n    estimators=[('1', Pipeline(\\n        memory=None,\\n        steps=[('maxabsscaler', MaxAbsScaler(\\n            copy=True\\n        \", \"primary_metric\": 0.91631259, \"best_metric\": 0.91631259}, {\"run_id\": \"AutoML_010aa149-434e-4c86-8554-4bcbcb2240a0_31\", \"run_number\": 1646353036, \"metric\": null, \"status\": \"Completed\", \"run_type\": \"azureml.scriptrun\", \"training_percent\": \"100\", \"start_time\": \"2022-03-04T00:18:13.240303Z\", \"end_time\": \"2022-03-04T00:18:16.879523Z\", \"created_time\": \"2022-03-04T00:17:16.844366Z\", \"created_time_dt\": \"2022-03-04T00:17:16.844366Z\", \"duration\": \"0:01:00\", \"iteration\": \"31\", \"goal\": \"accuracy_max\", \"run_name\": \"StackEnsemble\", \"run_properties\": \"\\n    base_learners=[('1', Pipeline(\\n        memory=None,\\n        steps=[('maxabsscaler', MaxAbsScaler(\\n            copy=True\\n        \", \"primary_metric\": 0.91354325, \"best_metric\": 0.91631259}], \"children_metrics\": {\"categories\": [0], \"series\": {\"recall_score_weighted\": [{\"categories\": [\"0\", \"1\", \"3\", \"5\", \"7\", \"8\", \"10\", \"11\", \"13\", \"15\", \"17\", \"20\", \"21\", \"22\", \"24\", \"25\", \"26\", \"27\", \"28\", \"29\", \"30\", \"31\"], \"mode\": \"markers\", \"name\": \"recall_score_weighted\", \"stepped\": false, \"type\": \"scatter\", \"data\": [0.9128983308042488, 0.9137708649468893, 0.9119499241274658, 0.8872154779969652, 0.9065629742033385, 0.8870637329286799, 0.9031487101669196, 0.9103566009104703, 0.8628224582701062, 0.8173368740515933, 0.899165402124431, 0.8323216995447649, 0.9117981790591806, 0.9063353566009106, 0.9117602427921092, 0.9118740515933232, 0.9064491654021245, 0.9067526555386951, 0.9114567526555387, 0.9108118361153263, 0.9163125948406676, 0.9135432473444614]}, {\"categories\": [\"0\", \"1\", \"3\", \"5\", \"7\", \"8\", \"10\", \"11\", \"13\", \"15\", \"17\", \"20\", \"21\", \"22\", \"24\", \"25\", \"26\", \"27\", \"28\", \"29\", \"30\", \"31\"], \"mode\": \"lines\", \"name\": \"recall_score_weighted_max\", \"stepped\": true, \"type\": \"scatter\", \"data\": [0.9128983308042488, 0.9137708649468893, 0.9137708649468893, 0.9137708649468893, 0.9137708649468893, 0.9137708649468893, 0.9137708649468893, 0.9137708649468893, 0.9137708649468893, 0.9137708649468893, 0.9137708649468893, 0.9137708649468893, 0.9137708649468893, 0.9137708649468893, 0.9137708649468893, 0.9137708649468893, 0.9137708649468893, 0.9137708649468893, 0.9137708649468893, 0.9137708649468893, 0.9163125948406676, 0.9163125948406676]}], \"average_precision_score_micro\": [{\"categories\": [\"0\", \"1\", \"3\", \"5\", \"7\", \"8\", \"10\", \"11\", \"13\", \"15\", \"17\", \"20\", \"21\", \"22\", \"24\", \"25\", \"26\", \"27\", \"28\", \"29\", \"30\", \"31\"], \"mode\": \"markers\", \"name\": \"average_precision_score_micro\", \"stepped\": false, \"type\": \"scatter\", \"data\": [0.9811953660329475, 0.9808381481654287, 0.9785886018399381, 0.9747054104212273, 0.9701658382781968, 0.9464432397858236, 0.9762602856062162, 0.9786470439618957, 0.9107494628212137, 0.9254285718211488, 0.9737187124994575, 0.9286447211165445, 0.9801724896382089, 0.9790439561636294, 0.9802666350275958, 0.9788424423334359, 0.9697224790127628, 0.9700954469216118, 0.9776125332648187, 0.979627765466961, 0.980757689437324, 0.9805098902444419]}, {\"categories\": [\"0\", \"1\", \"3\", \"5\", \"7\", \"8\", \"10\", \"11\", \"13\", \"15\", \"17\", \"20\", \"21\", \"22\", \"24\", \"25\", \"26\", \"27\", \"28\", \"29\", \"30\", \"31\"], \"mode\": \"lines\", \"name\": \"average_precision_score_micro_max\", \"stepped\": true, \"type\": \"scatter\", \"data\": [0.9811953660329475, 0.9811953660329475, 0.9811953660329475, 0.9811953660329475, 0.9811953660329475, 0.9811953660329475, 0.9811953660329475, 0.9811953660329475, 0.9811953660329475, 0.9811953660329475, 0.9811953660329475, 0.9811953660329475, 0.9811953660329475, 0.9811953660329475, 0.9811953660329475, 0.9811953660329475, 0.9811953660329475, 0.9811953660329475, 0.9811953660329475, 0.9811953660329475, 0.9811953660329475, 0.9811953660329475]}], \"precision_score_micro\": [{\"categories\": [\"0\", \"1\", \"3\", \"5\", \"7\", \"8\", \"10\", \"11\", \"13\", \"15\", \"17\", \"20\", \"21\", \"22\", \"24\", \"25\", \"26\", \"27\", \"28\", \"29\", \"30\", \"31\"], \"mode\": \"markers\", \"name\": \"precision_score_micro\", \"stepped\": false, \"type\": \"scatter\", \"data\": [0.9128983308042488, 0.9137708649468893, 0.9119499241274658, 0.8872154779969652, 0.9065629742033385, 0.8870637329286799, 0.9031487101669196, 0.9103566009104703, 0.8628224582701062, 0.8173368740515933, 0.899165402124431, 0.8323216995447649, 0.9117981790591806, 0.9063353566009106, 0.9117602427921092, 0.9118740515933232, 0.9064491654021245, 0.9067526555386951, 0.9114567526555387, 0.9108118361153263, 0.9163125948406676, 0.9135432473444614]}, {\"categories\": [\"0\", \"1\", \"3\", \"5\", \"7\", \"8\", \"10\", \"11\", \"13\", \"15\", \"17\", \"20\", \"21\", \"22\", \"24\", \"25\", \"26\", \"27\", \"28\", \"29\", \"30\", \"31\"], \"mode\": \"lines\", \"name\": \"precision_score_micro_max\", \"stepped\": true, \"type\": \"scatter\", \"data\": [0.9128983308042488, 0.9137708649468893, 0.9137708649468893, 0.9137708649468893, 0.9137708649468893, 0.9137708649468893, 0.9137708649468893, 0.9137708649468893, 0.9137708649468893, 0.9137708649468893, 0.9137708649468893, 0.9137708649468893, 0.9137708649468893, 0.9137708649468893, 0.9137708649468893, 0.9137708649468893, 0.9137708649468893, 0.9137708649468893, 0.9137708649468893, 0.9137708649468893, 0.9163125948406676, 0.9163125948406676]}], \"AUC_micro\": [{\"categories\": [\"0\", \"1\", \"3\", \"5\", \"7\", \"8\", \"10\", \"11\", \"13\", \"15\", \"17\", \"20\", \"21\", \"22\", \"24\", \"25\", \"26\", \"27\", \"28\", \"29\", \"30\", \"31\"], \"mode\": \"markers\", \"name\": \"AUC_micro\", \"stepped\": false, \"type\": \"scatter\", \"data\": [0.9803189352055466, 0.9799890508679864, 0.9785855816855907, 0.9736842548373058, 0.9731038414643975, 0.9503981724966092, 0.9755568831010338, 0.9783603458935574, 0.9245261204726894, 0.920079611472756, 0.972506812985141, 0.9246517519762552, 0.979491536729675, 0.9780832283705712, 0.9795283648432698, 0.9779437737317543, 0.9729113609621421, 0.9732072091572045, 0.977324139641154, 0.9787369597679844, 0.9800422854096771, 0.9798051477614724]}, {\"categories\": [\"0\", \"1\", \"3\", \"5\", \"7\", \"8\", \"10\", \"11\", \"13\", \"15\", \"17\", \"20\", \"21\", \"22\", \"24\", \"25\", \"26\", \"27\", \"28\", \"29\", \"30\", \"31\"], \"mode\": \"lines\", \"name\": \"AUC_micro_max\", \"stepped\": true, \"type\": \"scatter\", \"data\": [0.9803189352055466, 0.9803189352055466, 0.9803189352055466, 0.9803189352055466, 0.9803189352055466, 0.9803189352055466, 0.9803189352055466, 0.9803189352055466, 0.9803189352055466, 0.9803189352055466, 0.9803189352055466, 0.9803189352055466, 0.9803189352055466, 0.9803189352055466, 0.9803189352055466, 0.9803189352055466, 0.9803189352055466, 0.9803189352055466, 0.9803189352055466, 0.9803189352055466, 0.9803189352055466, 0.9803189352055466]}], \"norm_macro_recall\": [{\"categories\": [\"0\", \"1\", \"3\", \"5\", \"7\", \"8\", \"10\", \"11\", \"13\", \"15\", \"17\", \"20\", \"21\", \"22\", \"24\", \"25\", \"26\", \"27\", \"28\", \"29\", \"30\", \"31\"], \"mode\": \"markers\", \"name\": \"norm_macro_recall\", \"stepped\": false, \"type\": \"scatter\", \"data\": [0.5036069906610909, 0.46798871237128237, 0.49221376212659945, 0.0035980510021880185, 0.3537762146183709, 0.001674275764680111, 0.22162677298175854, 0.3647667058016771, 0.7124641519563868, 0.7438261139173941, 0.1463369828481249, 0.7569714865317894, 0.37813011390645573, 0.4022383445096464, 0.4116874389604165, 0.43782877769356376, 0.3626966244389721, 0.3665636686745344, 0.4238969631185675, 0.4184697109188461, 0.5833547731957237, 0.5029209473130625]}, {\"categories\": [\"0\", \"1\", \"3\", \"5\", \"7\", \"8\", \"10\", \"11\", \"13\", \"15\", \"17\", \"20\", \"21\", \"22\", \"24\", \"25\", \"26\", \"27\", \"28\", \"29\", \"30\", \"31\"], \"mode\": \"lines\", \"name\": \"norm_macro_recall_max\", \"stepped\": true, \"type\": \"scatter\", \"data\": [0.5036069906610909, 0.5036069906610909, 0.5036069906610909, 0.5036069906610909, 0.5036069906610909, 0.5036069906610909, 0.5036069906610909, 0.5036069906610909, 0.7124641519563868, 0.7438261139173941, 0.7438261139173941, 0.7569714865317894, 0.7569714865317894, 0.7569714865317894, 0.7569714865317894, 0.7569714865317894, 0.7569714865317894, 0.7569714865317894, 0.7569714865317894, 0.7569714865317894, 0.7569714865317894, 0.7569714865317894]}], \"precision_score_weighted\": [{\"categories\": [\"0\", \"1\", \"3\", \"5\", \"7\", \"8\", \"10\", \"11\", \"13\", \"15\", \"17\", \"20\", \"21\", \"22\", \"24\", \"25\", \"26\", \"27\", \"28\", \"29\", \"30\", \"31\"], \"mode\": \"markers\", \"name\": \"precision_score_weighted\", \"stepped\": false, \"type\": \"scatter\", \"data\": [0.9080226948493137, 0.9063554087939325, 0.9064711681208284, 0.8469911894074059, 0.8936282501378612, 0.8325416603843985, 0.8892285989600095, 0.8991341333177175, 0.9181673441665946, 0.9215404487801884, 0.8885368460824864, 0.9234929508829183, 0.9010123226755635, 0.8960504000087368, 0.9016659729141052, 0.9029707631116037, 0.8939117421344249, 0.8944065835811223, 0.901903390157959, 0.9010524822314755, 0.9164390107058571, 0.9083878033729457]}, {\"categories\": [\"0\", \"1\", \"3\", \"5\", \"7\", \"8\", \"10\", \"11\", \"13\", \"15\", \"17\", \"20\", \"21\", \"22\", \"24\", \"25\", \"26\", \"27\", \"28\", \"29\", \"30\", \"31\"], \"mode\": \"lines\", \"name\": \"precision_score_weighted_max\", \"stepped\": true, \"type\": \"scatter\", \"data\": [0.9080226948493137, 0.9080226948493137, 0.9080226948493137, 0.9080226948493137, 0.9080226948493137, 0.9080226948493137, 0.9080226948493137, 0.9080226948493137, 0.9181673441665946, 0.9215404487801884, 0.9215404487801884, 0.9234929508829183, 0.9234929508829183, 0.9234929508829183, 0.9234929508829183, 0.9234929508829183, 0.9234929508829183, 0.9234929508829183, 0.9234929508829183, 0.9234929508829183, 0.9234929508829183, 0.9234929508829183]}], \"AUC_weighted\": [{\"categories\": [\"0\", \"1\", \"3\", \"5\", \"7\", \"8\", \"10\", \"11\", \"13\", \"15\", \"17\", \"20\", \"21\", \"22\", \"24\", \"25\", \"26\", \"27\", \"28\", \"29\", \"30\", \"31\"], \"mode\": \"markers\", \"name\": \"AUC_weighted\", \"stepped\": false, \"type\": \"scatter\", \"data\": [0.9472316386674591, 0.9456770159694559, 0.9395024833927387, 0.9326046598958838, 0.9289238483420629, 0.8162472276717112, 0.9326151512365939, 0.9400245064085704, 0.930753342290848, 0.9344339546334108, 0.9233948335334852, 0.9297041247999607, 0.9446755511566762, 0.9412240861778105, 0.9449349162367457, 0.9390053303425485, 0.9293544542346325, 0.9303000332969728, 0.9360126028472029, 0.942048032115731, 0.9470413081731405, 0.9446881325908253]}, {\"categories\": [\"0\", \"1\", \"3\", \"5\", \"7\", \"8\", \"10\", \"11\", \"13\", \"15\", \"17\", \"20\", \"21\", \"22\", \"24\", \"25\", \"26\", \"27\", \"28\", \"29\", \"30\", \"31\"], \"mode\": \"lines\", \"name\": \"AUC_weighted_max\", \"stepped\": true, \"type\": \"scatter\", \"data\": [0.9472316386674591, 0.9472316386674591, 0.9472316386674591, 0.9472316386674591, 0.9472316386674591, 0.9472316386674591, 0.9472316386674591, 0.9472316386674591, 0.9472316386674591, 0.9472316386674591, 0.9472316386674591, 0.9472316386674591, 0.9472316386674591, 0.9472316386674591, 0.9472316386674591, 0.9472316386674591, 0.9472316386674591, 0.9472316386674591, 0.9472316386674591, 0.9472316386674591, 0.9472316386674591, 0.9472316386674591]}], \"average_precision_score_weighted\": [{\"categories\": [\"0\", \"1\", \"3\", \"5\", \"7\", \"8\", \"10\", \"11\", \"13\", \"15\", \"17\", \"20\", \"21\", \"22\", \"24\", \"25\", \"26\", \"27\", \"28\", \"29\", \"30\", \"31\"], \"mode\": \"markers\", \"name\": \"average_precision_score_weighted\", \"stepped\": false, \"type\": \"scatter\", \"data\": [0.9549130493099737, 0.954523269603898, 0.9513407811429747, 0.9488364014956009, 0.9437077212591862, 0.9064432695940507, 0.9468914483388357, 0.9519431767133831, 0.9421595501721878, 0.9479220129698099, 0.9431819546759226, 0.9453909967691828, 0.9540026030810989, 0.9487083645334262, 0.9535414297741595, 0.9496048895072118, 0.943534563794484, 0.9440798995095122, 0.9489824865626595, 0.9516393973677044, 0.9549252410990444, 0.9539807937178356]}, {\"categories\": [\"0\", \"1\", \"3\", \"5\", \"7\", \"8\", \"10\", \"11\", \"13\", \"15\", \"17\", \"20\", \"21\", \"22\", \"24\", \"25\", \"26\", \"27\", \"28\", \"29\", \"30\", \"31\"], \"mode\": \"lines\", \"name\": \"average_precision_score_weighted_max\", \"stepped\": true, \"type\": \"scatter\", \"data\": [0.9549130493099737, 0.9549130493099737, 0.9549130493099737, 0.9549130493099737, 0.9549130493099737, 0.9549130493099737, 0.9549130493099737, 0.9549130493099737, 0.9549130493099737, 0.9549130493099737, 0.9549130493099737, 0.9549130493099737, 0.9549130493099737, 0.9549130493099737, 0.9549130493099737, 0.9549130493099737, 0.9549130493099737, 0.9549130493099737, 0.9549130493099737, 0.9549130493099737, 0.9549252410990444, 0.9549252410990444]}], \"average_precision_score_macro\": [{\"categories\": [\"0\", \"1\", \"3\", \"5\", \"7\", \"8\", \"10\", \"11\", \"13\", \"15\", \"17\", \"20\", \"21\", \"22\", \"24\", \"25\", \"26\", \"27\", \"28\", \"29\", \"30\", \"31\"], \"mode\": \"markers\", \"name\": \"average_precision_score_macro\", \"stepped\": false, \"type\": \"scatter\", \"data\": [0.8235105536832024, 0.8228976887978643, 0.8151557071209655, 0.8052128119826044, 0.7849560822888094, 0.7018211847600456, 0.7968779898020643, 0.8166961230669244, 0.7763924200523464, 0.800057831344645, 0.7836439647507278, 0.7906505641296095, 0.8218132171754651, 0.7993238491738742, 0.8196380557349066, 0.8046161640486134, 0.7843490891555078, 0.7858225684223863, 0.8055606546310482, 0.8120687957250687, 0.8244907566297339, 0.8216084354681026]}, {\"categories\": [\"0\", \"1\", \"3\", \"5\", \"7\", \"8\", \"10\", \"11\", \"13\", \"15\", \"17\", \"20\", \"21\", \"22\", \"24\", \"25\", \"26\", \"27\", \"28\", \"29\", \"30\", \"31\"], \"mode\": \"lines\", \"name\": \"average_precision_score_macro_max\", \"stepped\": true, \"type\": \"scatter\", \"data\": [0.8235105536832024, 0.8235105536832024, 0.8235105536832024, 0.8235105536832024, 0.8235105536832024, 0.8235105536832024, 0.8235105536832024, 0.8235105536832024, 0.8235105536832024, 0.8235105536832024, 0.8235105536832024, 0.8235105536832024, 0.8235105536832024, 0.8235105536832024, 0.8235105536832024, 0.8235105536832024, 0.8235105536832024, 0.8235105536832024, 0.8235105536832024, 0.8235105536832024, 0.8244907566297339, 0.8244907566297339]}], \"recall_score_micro\": [{\"categories\": [\"0\", \"1\", \"3\", \"5\", \"7\", \"8\", \"10\", \"11\", \"13\", \"15\", \"17\", \"20\", \"21\", \"22\", \"24\", \"25\", \"26\", \"27\", \"28\", \"29\", \"30\", \"31\"], \"mode\": \"markers\", \"name\": \"recall_score_micro\", \"stepped\": false, \"type\": \"scatter\", \"data\": [0.9128983308042488, 0.9137708649468893, 0.9119499241274658, 0.8872154779969652, 0.9065629742033385, 0.8870637329286799, 0.9031487101669196, 0.9103566009104703, 0.8628224582701062, 0.8173368740515933, 0.899165402124431, 0.8323216995447649, 0.9117981790591806, 0.9063353566009106, 0.9117602427921092, 0.9118740515933232, 0.9064491654021245, 0.9067526555386951, 0.9114567526555387, 0.9108118361153263, 0.9163125948406676, 0.9135432473444614]}, {\"categories\": [\"0\", \"1\", \"3\", \"5\", \"7\", \"8\", \"10\", \"11\", \"13\", \"15\", \"17\", \"20\", \"21\", \"22\", \"24\", \"25\", \"26\", \"27\", \"28\", \"29\", \"30\", \"31\"], \"mode\": \"lines\", \"name\": \"recall_score_micro_max\", \"stepped\": true, \"type\": \"scatter\", \"data\": [0.9128983308042488, 0.9137708649468893, 0.9137708649468893, 0.9137708649468893, 0.9137708649468893, 0.9137708649468893, 0.9137708649468893, 0.9137708649468893, 0.9137708649468893, 0.9137708649468893, 0.9137708649468893, 0.9137708649468893, 0.9137708649468893, 0.9137708649468893, 0.9137708649468893, 0.9137708649468893, 0.9137708649468893, 0.9137708649468893, 0.9137708649468893, 0.9137708649468893, 0.9163125948406676, 0.9163125948406676]}], \"accuracy\": [{\"categories\": [\"0\", \"1\", \"3\", \"5\", \"7\", \"8\", \"10\", \"11\", \"13\", \"15\", \"17\", \"20\", \"21\", \"22\", \"24\", \"25\", \"26\", \"27\", \"28\", \"29\", \"30\", \"31\"], \"mode\": \"markers\", \"name\": \"accuracy\", \"stepped\": false, \"type\": \"scatter\", \"data\": [0.9128983308042488, 0.9137708649468893, 0.9119499241274658, 0.8872154779969652, 0.9065629742033385, 0.8870637329286799, 0.9031487101669196, 0.9103566009104703, 0.8628224582701062, 0.8173368740515933, 0.899165402124431, 0.8323216995447649, 0.9117981790591806, 0.9063353566009106, 0.9117602427921092, 0.9118740515933232, 0.9064491654021245, 0.9067526555386951, 0.9114567526555387, 0.9108118361153263, 0.9163125948406676, 0.9135432473444614]}, {\"categories\": [\"0\", \"1\", \"3\", \"5\", \"7\", \"8\", \"10\", \"11\", \"13\", \"15\", \"17\", \"20\", \"21\", \"22\", \"24\", \"25\", \"26\", \"27\", \"28\", \"29\", \"30\", \"31\"], \"mode\": \"lines\", \"name\": \"accuracy_max\", \"stepped\": true, \"type\": \"scatter\", \"data\": [0.9128983308042488, 0.9137708649468893, 0.9137708649468893, 0.9137708649468893, 0.9137708649468893, 0.9137708649468893, 0.9137708649468893, 0.9137708649468893, 0.9137708649468893, 0.9137708649468893, 0.9137708649468893, 0.9137708649468893, 0.9137708649468893, 0.9137708649468893, 0.9137708649468893, 0.9137708649468893, 0.9137708649468893, 0.9137708649468893, 0.9137708649468893, 0.9137708649468893, 0.9163125948406676, 0.9163125948406676]}], \"weighted_accuracy\": [{\"categories\": [\"0\", \"1\", \"3\", \"5\", \"7\", \"8\", \"10\", \"11\", \"13\", \"15\", \"17\", \"20\", \"21\", \"22\", \"24\", \"25\", \"26\", \"27\", \"28\", \"29\", \"30\", \"31\"], \"mode\": \"markers\", \"name\": \"weighted_accuracy\", \"stepped\": false, \"type\": \"scatter\", \"data\": [0.9532963087200663, 0.9588531165846078, 0.9534964605145634, 0.9839290910595017, 0.9641434170215135, 0.9839809583769508, 0.9764679958693699, 0.9674103354872823, 0.8643513243808456, 0.8036150026686013, 0.9809635294519048, 0.8207336792447611, 0.9675754575036374, 0.957832995497759, 0.963411001828162, 0.9602366066810719, 0.9628806486752726, 0.962775935327733, 0.9614640385423261, 0.9613718603825593, 0.9475425890846252, 0.9541601217066724]}, {\"categories\": [\"0\", \"1\", \"3\", \"5\", \"7\", \"8\", \"10\", \"11\", \"13\", \"15\", \"17\", \"20\", \"21\", \"22\", \"24\", \"25\", \"26\", \"27\", \"28\", \"29\", \"30\", \"31\"], \"mode\": \"lines\", \"name\": \"weighted_accuracy_max\", \"stepped\": true, \"type\": \"scatter\", \"data\": [0.9532963087200663, 0.9588531165846078, 0.9588531165846078, 0.9839290910595017, 0.9839290910595017, 0.9839809583769508, 0.9839809583769508, 0.9839809583769508, 0.9839809583769508, 0.9839809583769508, 0.9839809583769508, 0.9839809583769508, 0.9839809583769508, 0.9839809583769508, 0.9839809583769508, 0.9839809583769508, 0.9839809583769508, 0.9839809583769508, 0.9839809583769508, 0.9839809583769508, 0.9839809583769508, 0.9839809583769508]}], \"f1_score_weighted\": [{\"categories\": [\"0\", \"1\", \"3\", \"5\", \"7\", \"8\", \"10\", \"11\", \"13\", \"15\", \"17\", \"20\", \"21\", \"22\", \"24\", \"25\", \"26\", \"27\", \"28\", \"29\", \"30\", \"31\"], \"mode\": \"markers\", \"name\": \"f1_score_weighted\", \"stepped\": false, \"type\": \"scatter\", \"data\": [0.9099562001581022, 0.9087055542397673, 0.9086031834865391, 0.8346825433269249, 0.8955972161280646, 0.8341691865628305, 0.8803158505718995, 0.8989668379274187, 0.8800424126892168, 0.8468321243612233, 0.8676750173397669, 0.8583246573683707, 0.9012488914327019, 0.8989610048667382, 0.9036533418846849, 0.905449147743076, 0.8962054319983407, 0.8967280820633471, 0.9042418462211812, 0.9034058414445274, 0.9163410873276774, 0.9104229208654537]}, {\"categories\": [\"0\", \"1\", \"3\", \"5\", \"7\", \"8\", \"10\", \"11\", \"13\", \"15\", \"17\", \"20\", \"21\", \"22\", \"24\", \"25\", \"26\", \"27\", \"28\", \"29\", \"30\", \"31\"], \"mode\": \"lines\", \"name\": \"f1_score_weighted_max\", \"stepped\": true, \"type\": \"scatter\", \"data\": [0.9099562001581022, 0.9099562001581022, 0.9099562001581022, 0.9099562001581022, 0.9099562001581022, 0.9099562001581022, 0.9099562001581022, 0.9099562001581022, 0.9099562001581022, 0.9099562001581022, 0.9099562001581022, 0.9099562001581022, 0.9099562001581022, 0.9099562001581022, 0.9099562001581022, 0.9099562001581022, 0.9099562001581022, 0.9099562001581022, 0.9099562001581022, 0.9099562001581022, 0.9163410873276774, 0.9163410873276774]}], \"recall_score_macro\": [{\"categories\": [\"0\", \"1\", \"3\", \"5\", \"7\", \"8\", \"10\", \"11\", \"13\", \"15\", \"17\", \"20\", \"21\", \"22\", \"24\", \"25\", \"26\", \"27\", \"28\", \"29\", \"30\", \"31\"], \"mode\": \"markers\", \"name\": \"recall_score_macro\", \"stepped\": false, \"type\": \"scatter\", \"data\": [0.7518034953305455, 0.7339943561856411, 0.7461068810632998, 0.501799025501094, 0.6768881073091854, 0.5008371378823401, 0.6108133864908792, 0.6823833529008385, 0.8562320759781933, 0.8719130569586971, 0.5731684914240625, 0.8784857432658948, 0.6890650569532278, 0.7011191722548231, 0.7058437194802083, 0.7189143888467819, 0.6813483122194861, 0.6832818343372672, 0.7119484815592838, 0.709234855459423, 0.7916773865978619, 0.7514604736565312]}, {\"categories\": [\"0\", \"1\", \"3\", \"5\", \"7\", \"8\", \"10\", \"11\", \"13\", \"15\", \"17\", \"20\", \"21\", \"22\", \"24\", \"25\", \"26\", \"27\", \"28\", \"29\", \"30\", \"31\"], \"mode\": \"lines\", \"name\": \"recall_score_macro_max\", \"stepped\": true, \"type\": \"scatter\", \"data\": [0.7518034953305455, 0.7518034953305455, 0.7518034953305455, 0.7518034953305455, 0.7518034953305455, 0.7518034953305455, 0.7518034953305455, 0.7518034953305455, 0.8562320759781933, 0.8719130569586971, 0.8719130569586971, 0.8784857432658948, 0.8784857432658948, 0.8784857432658948, 0.8784857432658948, 0.8784857432658948, 0.8784857432658948, 0.8784857432658948, 0.8784857432658948, 0.8784857432658948, 0.8784857432658948, 0.8784857432658948]}], \"f1_score_micro\": [{\"categories\": [\"0\", \"1\", \"3\", \"5\", \"7\", \"8\", \"10\", \"11\", \"13\", \"15\", \"17\", \"20\", \"21\", \"22\", \"24\", \"25\", \"26\", \"27\", \"28\", \"29\", \"30\", \"31\"], \"mode\": \"markers\", \"name\": \"f1_score_micro\", \"stepped\": false, \"type\": \"scatter\", \"data\": [0.9128983308042488, 0.9137708649468893, 0.9119499241274658, 0.8872154779969652, 0.9065629742033385, 0.8870637329286799, 0.9031487101669196, 0.9103566009104703, 0.8628224582701062, 0.8173368740515933, 0.899165402124431, 0.8323216995447649, 0.9117981790591806, 0.9063353566009106, 0.9117602427921092, 0.9118740515933232, 0.9064491654021245, 0.9067526555386951, 0.9114567526555387, 0.9108118361153263, 0.9163125948406676, 0.9135432473444614]}, {\"categories\": [\"0\", \"1\", \"3\", \"5\", \"7\", \"8\", \"10\", \"11\", \"13\", \"15\", \"17\", \"20\", \"21\", \"22\", \"24\", \"25\", \"26\", \"27\", \"28\", \"29\", \"30\", \"31\"], \"mode\": \"lines\", \"name\": \"f1_score_micro_max\", \"stepped\": true, \"type\": \"scatter\", \"data\": [0.9128983308042488, 0.9137708649468893, 0.9137708649468893, 0.9137708649468893, 0.9137708649468893, 0.9137708649468893, 0.9137708649468893, 0.9137708649468893, 0.9137708649468893, 0.9137708649468893, 0.9137708649468893, 0.9137708649468893, 0.9137708649468893, 0.9137708649468893, 0.9137708649468893, 0.9137708649468893, 0.9137708649468893, 0.9137708649468893, 0.9137708649468893, 0.9137708649468893, 0.9163125948406676, 0.9163125948406676]}], \"matthews_correlation\": [{\"categories\": [\"0\", \"1\", \"3\", \"5\", \"7\", \"8\", \"10\", \"11\", \"13\", \"15\", \"17\", \"20\", \"21\", \"22\", \"24\", \"25\", \"26\", \"27\", \"28\", \"29\", \"30\", \"31\"], \"mode\": \"markers\", \"name\": \"matthews_correlation\", \"stepped\": false, \"type\": \"scatter\", \"data\": [0.538887931790102, 0.52684146400626, 0.5305603660384239, 0.03951893419736517, 0.4499470580850665, 0.023061067237819068, 0.37474230768329897, 0.4705869722363937, 0.5499749321099983, 0.5231101827197959, 0.3162977850896129, 0.5420325969389778, 0.48290032965548235, 0.47194107903538696, 0.4961219300304599, 0.5072919044452189, 0.45359370737023824, 0.45662275899013166, 0.49988923220444714, 0.4952877647969915, 0.5827984409776773, 0.5404863832078599]}, {\"categories\": [\"0\", \"1\", \"3\", \"5\", \"7\", \"8\", \"10\", \"11\", \"13\", \"15\", \"17\", \"20\", \"21\", \"22\", \"24\", \"25\", \"26\", \"27\", \"28\", \"29\", \"30\", \"31\"], \"mode\": \"lines\", \"name\": \"matthews_correlation_max\", \"stepped\": true, \"type\": \"scatter\", \"data\": [0.538887931790102, 0.538887931790102, 0.538887931790102, 0.538887931790102, 0.538887931790102, 0.538887931790102, 0.538887931790102, 0.538887931790102, 0.5499749321099983, 0.5499749321099983, 0.5499749321099983, 0.5499749321099983, 0.5499749321099983, 0.5499749321099983, 0.5499749321099983, 0.5499749321099983, 0.5499749321099983, 0.5499749321099983, 0.5499749321099983, 0.5499749321099983, 0.5827984409776773, 0.5827984409776773]}], \"balanced_accuracy\": [{\"categories\": [\"0\", \"1\", \"3\", \"5\", \"7\", \"8\", \"10\", \"11\", \"13\", \"15\", \"17\", \"20\", \"21\", \"22\", \"24\", \"25\", \"26\", \"27\", \"28\", \"29\", \"30\", \"31\"], \"mode\": \"markers\", \"name\": \"balanced_accuracy\", \"stepped\": false, \"type\": \"scatter\", \"data\": [0.7518034953305455, 0.7339943561856411, 0.7461068810632998, 0.501799025501094, 0.6768881073091854, 0.5008371378823401, 0.6108133864908792, 0.6823833529008385, 0.8562320759781933, 0.8719130569586971, 0.5731684914240625, 0.8784857432658948, 0.6890650569532278, 0.7011191722548231, 0.7058437194802083, 0.7189143888467819, 0.6813483122194861, 0.6832818343372672, 0.7119484815592838, 0.709234855459423, 0.7916773865978619, 0.7514604736565312]}, {\"categories\": [\"0\", \"1\", \"3\", \"5\", \"7\", \"8\", \"10\", \"11\", \"13\", \"15\", \"17\", \"20\", \"21\", \"22\", \"24\", \"25\", \"26\", \"27\", \"28\", \"29\", \"30\", \"31\"], \"mode\": \"lines\", \"name\": \"balanced_accuracy_max\", \"stepped\": true, \"type\": \"scatter\", \"data\": [0.7518034953305455, 0.7518034953305455, 0.7518034953305455, 0.7518034953305455, 0.7518034953305455, 0.7518034953305455, 0.7518034953305455, 0.7518034953305455, 0.8562320759781933, 0.8719130569586971, 0.8719130569586971, 0.8784857432658948, 0.8784857432658948, 0.8784857432658948, 0.8784857432658948, 0.8784857432658948, 0.8784857432658948, 0.8784857432658948, 0.8784857432658948, 0.8784857432658948, 0.8784857432658948, 0.8784857432658948]}], \"precision_score_macro\": [{\"categories\": [\"0\", \"1\", \"3\", \"5\", \"7\", \"8\", \"10\", \"11\", \"13\", \"15\", \"17\", \"20\", \"21\", \"22\", \"24\", \"25\", \"26\", \"27\", \"28\", \"29\", \"30\", \"31\"], \"mode\": \"markers\", \"name\": \"precision_score_macro\", \"stepped\": false, \"type\": \"scatter\", \"data\": [0.7884354061973118, 0.7966126201809247, 0.7860992581384567, 0.7069512641579314, 0.7861809044327044, 0.6435211738432294, 0.8178575651695207, 0.8062171891769007, 0.7125003477505245, 0.6839724981657278, 0.842568672062874, 0.6941123368107202, 0.8095535751781456, 0.7770052480251061, 0.7990732961399013, 0.793940929150077, 0.7837267964882566, 0.7844553570930217, 0.7948843548405427, 0.7931976961034405, 0.7912115848909517, 0.7904953592438713]}, {\"categories\": [\"0\", \"1\", \"3\", \"5\", \"7\", \"8\", \"10\", \"11\", \"13\", \"15\", \"17\", \"20\", \"21\", \"22\", \"24\", \"25\", \"26\", \"27\", \"28\", \"29\", \"30\", \"31\"], \"mode\": \"lines\", \"name\": \"precision_score_macro_max\", \"stepped\": true, \"type\": \"scatter\", \"data\": [0.7884354061973118, 0.7966126201809247, 0.7966126201809247, 0.7966126201809247, 0.7966126201809247, 0.7966126201809247, 0.8178575651695207, 0.8178575651695207, 0.8178575651695207, 0.8178575651695207, 0.842568672062874, 0.842568672062874, 0.842568672062874, 0.842568672062874, 0.842568672062874, 0.842568672062874, 0.842568672062874, 0.842568672062874, 0.842568672062874, 0.842568672062874, 0.842568672062874, 0.842568672062874]}], \"AUC_macro\": [{\"categories\": [\"0\", \"1\", \"3\", \"5\", \"7\", \"8\", \"10\", \"11\", \"13\", \"15\", \"17\", \"20\", \"21\", \"22\", \"24\", \"25\", \"26\", \"27\", \"28\", \"29\", \"30\", \"31\"], \"mode\": \"markers\", \"name\": \"AUC_macro\", \"stepped\": false, \"type\": \"scatter\", \"data\": [0.9472316386674591, 0.9456770159694559, 0.9395024833927387, 0.9326046598958836, 0.9289238483420629, 0.8162472276717112, 0.9326151512365939, 0.9400245064085704, 0.930753342290848, 0.9344339546334108, 0.9233948335334852, 0.9297041247999605, 0.9446755361100427, 0.9412240861778105, 0.9449349302031702, 0.9390053303425485, 0.9293544542346324, 0.9303000332969729, 0.9360126028472031, 0.942048032115731, 0.9470413081731403, 0.9446881325908253]}, {\"categories\": [\"0\", \"1\", \"3\", \"5\", \"7\", \"8\", \"10\", \"11\", \"13\", \"15\", \"17\", \"20\", \"21\", \"22\", \"24\", \"25\", \"26\", \"27\", \"28\", \"29\", \"30\", \"31\"], \"mode\": \"lines\", \"name\": \"AUC_macro_max\", \"stepped\": true, \"type\": \"scatter\", \"data\": [0.9472316386674591, 0.9472316386674591, 0.9472316386674591, 0.9472316386674591, 0.9472316386674591, 0.9472316386674591, 0.9472316386674591, 0.9472316386674591, 0.9472316386674591, 0.9472316386674591, 0.9472316386674591, 0.9472316386674591, 0.9472316386674591, 0.9472316386674591, 0.9472316386674591, 0.9472316386674591, 0.9472316386674591, 0.9472316386674591, 0.9472316386674591, 0.9472316386674591, 0.9472316386674591, 0.9472316386674591]}], \"f1_score_macro\": [{\"categories\": [\"0\", \"1\", \"3\", \"5\", \"7\", \"8\", \"10\", \"11\", \"13\", \"15\", \"17\", \"20\", \"21\", \"22\", \"24\", \"25\", \"26\", \"27\", \"28\", \"29\", \"30\", \"31\"], \"mode\": \"markers\", \"name\": \"f1_score_macro\", \"stepped\": false, \"type\": \"scatter\", \"data\": [0.7681961050692584, 0.7600470906503335, 0.7637626163508455, 0.47375596697376804, 0.7137952503081516, 0.4717319450449966, 0.6497661505981455, 0.7210039891260872, 0.7508729026046359, 0.7122944411190868, 0.5999935630431744, 0.7274959881507314, 0.7286678512911048, 0.7304397675066866, 0.7404681216890273, 0.748722251434746, 0.7169140091415823, 0.7187285106774881, 0.7438706801802708, 0.7413783493546717, 0.7913124364443782, 0.7688901288518236]}, {\"categories\": [\"0\", \"1\", \"3\", \"5\", \"7\", \"8\", \"10\", \"11\", \"13\", \"15\", \"17\", \"20\", \"21\", \"22\", \"24\", \"25\", \"26\", \"27\", \"28\", \"29\", \"30\", \"31\"], \"mode\": \"lines\", \"name\": \"f1_score_macro_max\", \"stepped\": true, \"type\": \"scatter\", \"data\": [0.7681961050692584, 0.7681961050692584, 0.7681961050692584, 0.7681961050692584, 0.7681961050692584, 0.7681961050692584, 0.7681961050692584, 0.7681961050692584, 0.7681961050692584, 0.7681961050692584, 0.7681961050692584, 0.7681961050692584, 0.7681961050692584, 0.7681961050692584, 0.7681961050692584, 0.7681961050692584, 0.7681961050692584, 0.7681961050692584, 0.7681961050692584, 0.7681961050692584, 0.7913124364443782, 0.7913124364443782]}], \"log_loss\": [{\"categories\": [\"0\", \"1\", \"3\", \"5\", \"7\", \"8\", \"10\", \"11\", \"13\", \"15\", \"17\", \"20\", \"21\", \"22\", \"24\", \"25\", \"26\", \"27\", \"28\", \"29\", \"30\", \"31\"], \"mode\": \"markers\", \"name\": \"log_loss\", \"stepped\": false, \"type\": \"scatter\", \"data\": [0.17578518578304664, 0.17934891740534836, 0.3171688381068233, 0.25993286604971033, 0.21580408171989768, 0.29552851351949366, 0.2055258784725717, 0.32506866469082174, 0.8288055296256273, 0.3614619258180392, 0.22182523854824746, 0.36151742299689094, 0.2120797267500218, 0.18429166026261634, 0.1859209047387605, 0.18924119210887916, 0.21634136606783713, 0.21509396592954122, 0.21669530867394154, 0.18655473710270398, 0.22186990542916235, 0.18270311665784011]}, {\"categories\": [\"0\", \"1\", \"3\", \"5\", \"7\", \"8\", \"10\", \"11\", \"13\", \"15\", \"17\", \"20\", \"21\", \"22\", \"24\", \"25\", \"26\", \"27\", \"28\", \"29\", \"30\", \"31\"], \"mode\": \"lines\", \"name\": \"log_loss_min\", \"stepped\": true, \"type\": \"scatter\", \"data\": [0.17578518578304664, 0.17578518578304664, 0.17578518578304664, 0.17578518578304664, 0.17578518578304664, 0.17578518578304664, 0.17578518578304664, 0.17578518578304664, 0.17578518578304664, 0.17578518578304664, 0.17578518578304664, 0.17578518578304664, 0.17578518578304664, 0.17578518578304664, 0.17578518578304664, 0.17578518578304664, 0.17578518578304664, 0.17578518578304664, 0.17578518578304664, 0.17578518578304664, 0.17578518578304664, 0.17578518578304664]}]}, \"metricName\": null, \"primaryMetricName\": \"accuracy\", \"showLegend\": false}, \"run_metrics\": [{\"name\": \"experiment_status\", \"run_id\": \"AutoML_010aa149-434e-4c86-8554-4bcbcb2240a0\", \"categories\": [0, 1, 2, 3, 4, 5, 6, 7, 8, 9, 10, 11, 12, 13, 14], \"series\": [{\"data\": [\"DatasetEvaluation\", \"FeaturesGeneration\", \"DatasetFeaturization\", \"DatasetFeaturizationCompleted\", \"DatasetBalancing\", \"DatasetCrossValidationSplit\", \"ModelSelection\", \"BestRunExplainModel\", \"ModelExplanationDataSetSetup\", \"PickSurrogateModel\", \"EngineeredFeatureExplanations\", \"EngineeredFeatureExplanations\", \"RawFeaturesExplanations\", \"RawFeaturesExplanations\", \"BestRunExplainModel\"]}]}, {\"name\": \"experiment_status_description\", \"run_id\": \"AutoML_010aa149-434e-4c86-8554-4bcbcb2240a0\", \"categories\": [0, 1, 2, 3, 4, 5, 6, 7, 8, 9, 10, 11, 12, 13, 14], \"series\": [{\"data\": [\"Gathering dataset statistics.\", \"Generating features for the dataset.\", \"Beginning to fit featurizers and featurize the dataset.\", \"Completed fit featurizers and featurizing the dataset.\", \"Performing class balancing sweeping\", \"Generating individually featurized CV splits.\", \"Beginning model selection.\", \"Best run model explanations started\", \"Model explanations data setup completed\", \"Choosing LightGBM as the surrogate model for explanations\", \"Computation of engineered features started\", \"Computation of engineered features completed\", \"Computation of raw features started\", \"Computation of raw features completed\", \"Best run model explanations completed\"]}]}, {\"name\": \"norm_macro_recall\", \"run_id\": \"AutoML_010aa149-434e-4c86-8554-4bcbcb2240a0\", \"categories\": [0], \"series\": [{\"data\": [0.5833547731957237]}]}, {\"name\": \"AUC_micro\", \"run_id\": \"AutoML_010aa149-434e-4c86-8554-4bcbcb2240a0\", \"categories\": [0], \"series\": [{\"data\": [0.9800422854096771]}]}, {\"name\": \"recall_score_weighted\", \"run_id\": \"AutoML_010aa149-434e-4c86-8554-4bcbcb2240a0\", \"categories\": [0], \"series\": [{\"data\": [0.9163125948406676]}]}, {\"name\": \"f1_score_weighted\", \"run_id\": \"AutoML_010aa149-434e-4c86-8554-4bcbcb2240a0\", \"categories\": [0], \"series\": [{\"data\": [0.9163410873276774]}]}, {\"name\": \"f1_score_macro\", \"run_id\": \"AutoML_010aa149-434e-4c86-8554-4bcbcb2240a0\", \"categories\": [0], \"series\": [{\"data\": [0.7913124364443782]}]}, {\"name\": \"average_precision_score_micro\", \"run_id\": \"AutoML_010aa149-434e-4c86-8554-4bcbcb2240a0\", \"categories\": [0], \"series\": [{\"data\": [0.980757689437324]}]}, {\"name\": \"precision_score_weighted\", \"run_id\": \"AutoML_010aa149-434e-4c86-8554-4bcbcb2240a0\", \"categories\": [0], \"series\": [{\"data\": [0.9164390107058571]}]}, {\"name\": \"log_loss\", \"run_id\": \"AutoML_010aa149-434e-4c86-8554-4bcbcb2240a0\", \"categories\": [0], \"series\": [{\"data\": [0.22186990542916235]}]}, {\"name\": \"average_precision_score_macro\", \"run_id\": \"AutoML_010aa149-434e-4c86-8554-4bcbcb2240a0\", \"categories\": [0], \"series\": [{\"data\": [0.8244907566297339]}]}, {\"name\": \"accuracy\", \"run_id\": \"AutoML_010aa149-434e-4c86-8554-4bcbcb2240a0\", \"categories\": [0], \"series\": [{\"data\": [0.9163125948406676]}]}, {\"name\": \"precision_score_micro\", \"run_id\": \"AutoML_010aa149-434e-4c86-8554-4bcbcb2240a0\", \"categories\": [0], \"series\": [{\"data\": [0.9163125948406676]}]}, {\"name\": \"recall_score_micro\", \"run_id\": \"AutoML_010aa149-434e-4c86-8554-4bcbcb2240a0\", \"categories\": [0], \"series\": [{\"data\": [0.9163125948406676]}]}, {\"name\": \"balanced_accuracy\", \"run_id\": \"AutoML_010aa149-434e-4c86-8554-4bcbcb2240a0\", \"categories\": [0], \"series\": [{\"data\": [0.7916773865978619]}]}, {\"name\": \"AUC_macro\", \"run_id\": \"AutoML_010aa149-434e-4c86-8554-4bcbcb2240a0\", \"categories\": [0], \"series\": [{\"data\": [0.9470413081731403]}]}, {\"name\": \"precision_score_macro\", \"run_id\": \"AutoML_010aa149-434e-4c86-8554-4bcbcb2240a0\", \"categories\": [0], \"series\": [{\"data\": [0.7912115848909517]}]}, {\"name\": \"weighted_accuracy\", \"run_id\": \"AutoML_010aa149-434e-4c86-8554-4bcbcb2240a0\", \"categories\": [0], \"series\": [{\"data\": [0.9475425890846252]}]}, {\"name\": \"f1_score_micro\", \"run_id\": \"AutoML_010aa149-434e-4c86-8554-4bcbcb2240a0\", \"categories\": [0], \"series\": [{\"data\": [0.9163125948406676]}]}, {\"name\": \"average_precision_score_weighted\", \"run_id\": \"AutoML_010aa149-434e-4c86-8554-4bcbcb2240a0\", \"categories\": [0], \"series\": [{\"data\": [0.9549252410990444]}]}, {\"name\": \"recall_score_macro\", \"run_id\": \"AutoML_010aa149-434e-4c86-8554-4bcbcb2240a0\", \"categories\": [0], \"series\": [{\"data\": [0.7916773865978619]}]}, {\"name\": \"AUC_weighted\", \"run_id\": \"AutoML_010aa149-434e-4c86-8554-4bcbcb2240a0\", \"categories\": [0], \"series\": [{\"data\": [0.9470413081731405]}]}, {\"name\": \"matthews_correlation\", \"run_id\": \"AutoML_010aa149-434e-4c86-8554-4bcbcb2240a0\", \"categories\": [0], \"series\": [{\"data\": [0.5827984409776773]}]}], \"run_logs\": \"\\nRun is completed.\", \"graph\": {}, \"widget_settings\": {\"childWidgetDisplay\": \"popup\", \"send_telemetry\": false, \"log_level\": \"INFO\", \"sdk_version\": \"1.38.0\"}, \"loading\": false}"
     },
     "metadata": {},
     "output_type": "display_data"
    },
    {
     "data": {
      "text/html": [
       "<table style=\"width:100%\"><tr><th>Experiment</th><th>Id</th><th>Type</th><th>Status</th><th>Details Page</th><th>Docs Page</th></tr><tr><td>udacity-project</td><td>AutoML_010aa149-434e-4c86-8554-4bcbcb2240a0</td><td>automl</td><td>Completed</td><td><a href=\"https://ml.azure.com/runs/AutoML_010aa149-434e-4c86-8554-4bcbcb2240a0?wsid=/subscriptions/a24a24d5-8d87-4c8a-99b6-91ed2d2df51f/resourcegroups/aml-quickstarts-187962/workspaces/quick-starts-ws-187962&amp;tid=660b3398-b80e-49d2-bc5b-ac1dc93b5254\" target=\"_blank\" rel=\"noopener\">Link to Azure Machine Learning studio</a></td><td><a href=\"https://docs.microsoft.com/en-us/python/api/overview/azure/ml/intro?view=azure-ml-py\" target=\"_blank\" rel=\"noopener\">Link to Documentation</a></td></tr></table>"
      ],
      "text/plain": [
       "<IPython.core.display.HTML object>"
      ]
     },
     "metadata": {},
     "output_type": "display_data"
    },
    {
     "name": "stdout",
     "output_type": "stream",
     "text": [
      "\n",
      "\n",
      "********************************************************************************************\n",
      "DATA GUARDRAILS: \n",
      "\n",
      "TYPE:         Class balancing detection\n",
      "STATUS:       ALERTED\n",
      "DESCRIPTION:  To decrease model bias, please cancel the current run and fix balancing problem.\n",
      "              Learn more about imbalanced data: https://aka.ms/AutomatedMLImbalancedData\n",
      "DETAILS:      Imbalanced data can lead to a falsely perceived positive effect of a model's accuracy because the input data has bias towards one class.\n",
      "+------------------------------+--------------------------------+--------------------------------------+\n",
      "|Size of the smallest class    |Name/Label of the smallest class|Number of samples in the training data|\n",
      "+==============================+================================+======================================+\n",
      "|2982                          |1                               |26360                                 |\n",
      "+------------------------------+--------------------------------+--------------------------------------+\n",
      "\n",
      "********************************************************************************************\n",
      "\n",
      "TYPE:         Missing feature values imputation\n",
      "STATUS:       PASSED\n",
      "DESCRIPTION:  No feature missing values were detected in the training data.\n",
      "              Learn more about missing value imputation: https://aka.ms/AutomatedMLFeaturization\n",
      "\n",
      "********************************************************************************************\n",
      "\n",
      "TYPE:         High cardinality feature detection\n",
      "STATUS:       PASSED\n",
      "DESCRIPTION:  Your inputs were analyzed, and no high cardinality features were detected.\n",
      "              Learn more about high cardinality feature handling: https://aka.ms/AutomatedMLFeaturization\n",
      "\n",
      "********************************************************************************************\n",
      "\n",
      "********************************************************************************************\n",
      "ITER: The iteration being evaluated.\n",
      "PIPELINE: A summary description of the pipeline being evaluated.\n",
      "DURATION: Time taken for the current iteration.\n",
      "METRIC: The result of computing score on the fitted pipeline.\n",
      "BEST: The best observed score thus far.\n",
      "********************************************************************************************\n",
      "\n",
      " ITER   PIPELINE                                       DURATION            METRIC      BEST\n",
      "    0   MaxAbsScaler LightGBM                          0:00:11             0.9129    0.9129\n",
      "    1   MaxAbsScaler XGBoostClassifier                 0:00:17             0.9138    0.9138\n",
      "    2   MaxAbsScaler ExtremeRandomTrees                0:00:16             0.7288    0.9138\n",
      "    3   SparseNormalizer XGBoostClassifier             0:00:13             0.9119    0.9138\n",
      "    4   MaxAbsScaler LightGBM                          0:00:09             0.9099    0.9138\n",
      "    5   MaxAbsScaler LightGBM                          0:00:09             0.8872    0.9138\n",
      "    6   StandardScalerWrapper XGBoostClassifier        0:00:12             0.9076    0.9138\n",
      "    7   MaxAbsScaler LogisticRegression                0:00:14             0.9066    0.9138\n",
      "    8   StandardScalerWrapper ExtremeRandomTrees       0:00:10             0.8871    0.9138\n",
      "    9   StandardScalerWrapper XGBoostClassifier        0:00:11             0.9083    0.9138\n",
      "   10   SparseNormalizer LightGBM                      0:00:09             0.9031    0.9138\n",
      "   11   StandardScalerWrapper XGBoostClassifier        0:00:10             0.9104    0.9138\n",
      "   12   MaxAbsScaler LogisticRegression                0:00:14             0.9064    0.9138\n",
      "Received interrupt. Returning now."
     ]
    },
    {
     "data": {
      "text/plain": [
       "{'runId': 'AutoML_010aa149-434e-4c86-8554-4bcbcb2240a0',\n",
       " 'target': 'compute-cluster',\n",
       " 'status': 'Completed',\n",
       " 'startTimeUtc': '2022-03-03T23:37:39.885772Z',\n",
       " 'endTimeUtc': '2022-03-04T00:18:18.397945Z',\n",
       " 'services': {},\n",
       " 'warnings': [{'source': 'JasmineService',\n",
       "   'message': 'No scores improved over last 20 iterations, so experiment stopped early. This early stopping behavior can be disabled by setting enable_early_stopping = False in AutoMLConfig for notebook/python SDK runs.'}],\n",
       " 'properties': {'num_iterations': '1000',\n",
       "  'training_type': 'TrainFull',\n",
       "  'acquisition_function': 'EI',\n",
       "  'primary_metric': 'accuracy',\n",
       "  'train_split': '0',\n",
       "  'acquisition_parameter': '0',\n",
       "  'num_cross_validation': '5',\n",
       "  'target': 'compute-cluster',\n",
       "  'AMLSettingsJsonString': '{\"path\":null,\"name\":\"udacity-project\",\"subscription_id\":\"a24a24d5-8d87-4c8a-99b6-91ed2d2df51f\",\"resource_group\":\"aml-quickstarts-187962\",\"workspace_name\":\"quick-starts-ws-187962\",\"region\":\"southcentralus\",\"compute_target\":\"compute-cluster\",\"spark_service\":null,\"azure_service\":\"remote\",\"many_models\":false,\"pipeline_fetch_max_batch_size\":1,\"enable_batch_run\":true,\"enable_run_restructure\":false,\"start_auxiliary_runs_before_parent_complete\":false,\"enable_code_generation\":false,\"iterations\":1000,\"primary_metric\":\"accuracy\",\"task_type\":\"classification\",\"positive_label\":null,\"data_script\":null,\"test_size\":0.0,\"test_include_predictions_only\":false,\"validation_size\":0.0,\"n_cross_validations\":5,\"y_min\":null,\"y_max\":null,\"num_classes\":null,\"featurization\":\"auto\",\"_ignore_package_version_incompatibilities\":false,\"is_timeseries\":false,\"max_cores_per_iteration\":1,\"max_concurrent_iterations\":1,\"iteration_timeout_minutes\":null,\"mem_in_mb\":null,\"enforce_time_on_windows\":false,\"experiment_timeout_minutes\":30,\"experiment_exit_score\":null,\"whitelist_models\":null,\"blacklist_algos\":[\"TensorFlowLinearClassifier\",\"TensorFlowDNN\"],\"supported_models\":[\"SVM\",\"GradientBoosting\",\"BernoulliNaiveBayes\",\"XGBoostClassifier\",\"TensorFlowLinearClassifier\",\"TabnetClassifier\",\"LogisticRegression\",\"KNN\",\"RandomForest\",\"SGD\",\"LinearSVM\",\"MultinomialNaiveBayes\",\"ExtremeRandomTrees\",\"AveragedPerceptronClassifier\",\"LightGBM\",\"TensorFlowDNN\",\"DecisionTree\"],\"private_models\":[],\"auto_blacklist\":true,\"blacklist_samples_reached\":false,\"exclude_nan_labels\":true,\"verbosity\":20,\"_debug_log\":\"azureml_automl.log\",\"show_warnings\":false,\"model_explainability\":true,\"service_url\":null,\"sdk_url\":null,\"sdk_packages\":null,\"enable_onnx_compatible_models\":false,\"enable_split_onnx_featurizer_estimator_models\":false,\"vm_type\":\"STANDARD_D2_V2\",\"telemetry_verbosity\":20,\"send_telemetry\":true,\"enable_dnn\":false,\"scenario\":\"SDK-1.13.0\",\"environment_label\":null,\"save_mlflow\":false,\"enable_categorical_indicators\":false,\"force_text_dnn\":false,\"enable_feature_sweeping\":true,\"enable_early_stopping\":true,\"early_stopping_n_iters\":10,\"arguments\":null,\"dataset_id\":null,\"hyperdrive_config\":null,\"validation_dataset_id\":null,\"run_source\":null,\"metrics\":null,\"enable_metric_confidence\":false,\"enable_ensembling\":true,\"enable_stack_ensembling\":true,\"ensemble_iterations\":15,\"enable_tf\":false,\"enable_subsampling\":null,\"subsample_seed\":null,\"enable_nimbusml\":false,\"enable_streaming\":false,\"force_streaming\":false,\"track_child_runs\":true,\"allowed_private_models\":[],\"label_column_name\":\"y\",\"weight_column_name\":null,\"cv_split_column_names\":null,\"enable_local_managed\":false,\"_local_managed_run_id\":null,\"cost_mode\":1,\"lag_length\":0,\"metric_operation\":\"maximize\",\"preprocess\":true}',\n",
       "  'DataPrepJsonString': '{\\\\\"training_data\\\\\": {\\\\\"datasetId\\\\\": \\\\\"a6458ec4-6c60-43ab-ade9-aa42c64db393\\\\\"}, \\\\\"datasets\\\\\": 0}',\n",
       "  'EnableSubsampling': None,\n",
       "  'runTemplate': 'AutoML',\n",
       "  'azureml.runsource': 'automl',\n",
       "  'display_task_type': 'classification',\n",
       "  'dependencies_versions': '{\"azureml-widgets\": \"1.38.0\", \"azureml-train\": \"1.38.0\", \"azureml-train-restclients-hyperdrive\": \"1.38.0\", \"azureml-train-core\": \"1.38.0\", \"azureml-train-automl-client\": \"1.38.0\", \"azureml-tensorboard\": \"1.38.0\", \"azureml-telemetry\": \"1.38.0\", \"azureml-sdk\": \"1.38.0\", \"azureml-samples\": \"0+unknown\", \"azureml-responsibleai\": \"1.38.0\", \"azureml-pipeline\": \"1.38.0\", \"azureml-pipeline-steps\": \"1.38.0\", \"azureml-pipeline-core\": \"1.38.0\", \"azureml-opendatasets\": \"1.38.0\", \"azureml-mlflow\": \"1.38.0\", \"azureml-interpret\": \"1.38.0\", \"azureml-inference-server-http\": \"0.4.2\", \"azureml-explain-model\": \"1.38.0\", \"azureml-defaults\": \"1.38.0\", \"azureml-dataset-runtime\": \"1.38.0\", \"azureml-dataprep\": \"2.26.0\", \"azureml-dataprep-rslex\": \"2.2.0\", \"azureml-dataprep-native\": \"38.0.0\", \"azureml-datadrift\": \"1.38.0\", \"azureml-core\": \"1.38.0\", \"azureml-contrib-services\": \"1.38.0\", \"azureml-contrib-server\": \"1.38.0\", \"azureml-contrib-reinforcementlearning\": \"1.38.0\", \"azureml-contrib-pipeline-steps\": \"1.38.0\", \"azureml-contrib-notebook\": \"1.38.0\", \"azureml-contrib-fairness\": \"1.38.0\", \"azureml-contrib-dataset\": \"1.38.0\", \"azureml-cli-common\": \"1.38.0\", \"azureml-automl-core\": \"1.38.0\", \"azureml-accel-models\": \"1.38.0\"}',\n",
       "  '_aml_system_scenario_identification': 'Remote.Parent',\n",
       "  'ClientType': 'SDK',\n",
       "  'environment_cpu_name': 'AzureML-AutoML',\n",
       "  'environment_cpu_label': 'py36',\n",
       "  'environment_gpu_name': 'AzureML-AutoML-GPU',\n",
       "  'environment_gpu_label': 'py36',\n",
       "  'root_attribution': 'automl',\n",
       "  'attribution': 'AutoML',\n",
       "  'Orchestrator': 'AutoML',\n",
       "  'CancelUri': 'https://southcentralus.api.azureml.ms/jasmine/v1.0/subscriptions/a24a24d5-8d87-4c8a-99b6-91ed2d2df51f/resourceGroups/aml-quickstarts-187962/providers/Microsoft.MachineLearningServices/workspaces/quick-starts-ws-187962/experimentids/2a8e1d5a-d9da-417d-bdcc-056d4cd51329/cancel/AutoML_010aa149-434e-4c86-8554-4bcbcb2240a0',\n",
       "  'ClientSdkVersion': '1.38.0',\n",
       "  'snapshotId': '00000000-0000-0000-0000-000000000000',\n",
       "  'SetupRunId': 'AutoML_010aa149-434e-4c86-8554-4bcbcb2240a0_setup',\n",
       "  'SetupRunContainerId': 'dcid.AutoML_010aa149-434e-4c86-8554-4bcbcb2240a0_setup',\n",
       "  'FeaturizationRunJsonPath': 'featurizer_container.json',\n",
       "  'FeaturizationRunId': 'AutoML_010aa149-434e-4c86-8554-4bcbcb2240a0_featurize',\n",
       "  'ProblemInfoJsonString': '{\"dataset_num_categorical\": 0, \"is_sparse\": true, \"subsampling\": false, \"has_extra_col\": true, \"dataset_classes\": 2, \"dataset_features\": 120, \"dataset_samples\": 26360, \"single_frequency_class_detected\": false}',\n",
       "  'ModelExplainRunId': 'AutoML_010aa149-434e-4c86-8554-4bcbcb2240a0_ModelExplain'},\n",
       " 'inputDatasets': [{'dataset': {'id': 'a6458ec4-6c60-43ab-ade9-aa42c64db393'}, 'consumptionDetails': {'type': 'RunInput', 'inputName': 'training_data', 'mechanism': 'Direct'}}],\n",
       " 'outputDatasets': [],\n",
       " 'logFiles': {},\n",
       " 'submittedBy': 'ODL_User 187962'}"
      ]
     },
     "execution_count": 6,
     "metadata": {},
     "output_type": "execute_result"
    }
   ],
   "source": [
    "# Submit your automl run\n",
    "from azureml.widgets import RunDetails\n",
    "\n",
    "\n",
    "### YOUR CODE HERE ###\n",
    "automl_run = exp.submit(config=automl_config, show_output=True)\n",
    "RunDetails(automl_run).show()\n",
    "automl_run.wait_for_completion(show_output=True)"
   ]
  },
  {
   "cell_type": "code",
   "execution_count": 8,
   "metadata": {},
   "outputs": [
    {
     "name": "stdout",
     "output_type": "stream",
     "text": [
      "0.9163125948406676\n"
     ]
    },
    {
     "name": "stderr",
     "output_type": "stream",
     "text": [
      "WARNING:root:The model you attempted to retrieve requires 'azureml-train-automl-runtime' to be installed at '==1.38.0'. Please install 'azureml-train-automl-runtime==1.38.0' (e.g. `pip install azureml-train-automl-runtime==1.38.0`) and then rerun the previous command.\n"
     ]
    },
    {
     "name": "stdout",
     "output_type": "stream",
     "text": [
      "['automl_driver.py', 'definition.json', 'definition_original.json', 'outputs/verifier_results.json']\n"
     ]
    }
   ],
   "source": [
    "# Retrieve and save your best automl model.\n",
    "\n",
    "### YOUR CODE HERE ###\n",
    "automl_metrics = automl_run.get_metrics()\n",
    "print(automl_metrics)\n",
    "print(automl_metrics)\n",
    "best_run, model = automl_run.get_output()\n",
    "print(automl_run.get_file_names())\n",
    "# automl_run.download_file('outputs/model.pkl', './automl_model.pkl')"
   ]
  },
  {
   "cell_type": "code",
   "execution_count": null,
   "metadata": {},
   "outputs": [],
   "source": [
    "compute_target.delete()"
   ]
  }
 ],
 "metadata": {
  "kernel_info": {
   "name": "python3-azureml"
  },
  "kernelspec": {
   "display_name": "Python 3",
   "language": "python",
   "name": "python3"
  },
  "language_info": {
   "codemirror_mode": {
    "name": "ipython",
    "version": 3
   },
   "file_extension": ".py",
   "mimetype": "text/x-python",
   "name": "python",
   "nbconvert_exporter": "python",
   "pygments_lexer": "ipython3",
   "version": "3.8.1"
  },
  "nteract": {
   "version": "nteract-front-end@1.0.0"
  }
 },
 "nbformat": 4,
 "nbformat_minor": 2
}
